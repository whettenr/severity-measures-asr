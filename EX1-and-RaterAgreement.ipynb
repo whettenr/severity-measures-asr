{
 "cells": [
  {
   "cell_type": "markdown",
   "id": "8cfee574",
   "metadata": {},
   "source": [
    "# Experiment 1 Notebook\n",
    "\n",
    "This experiment is to test the plausability of using sentiment/embedings to automatically rate severity.\n"
   ]
  },
  {
   "cell_type": "code",
   "execution_count": 10,
   "id": "35591594",
   "metadata": {},
   "outputs": [
    {
     "name": "stdout",
     "output_type": "stream",
     "text": [
      "2023-01-31 09:24:42,525 loading file /Users/ryanwhetten/.flair/models/sentiment-en-mix-distillbert_4.pt\n"
     ]
    }
   ],
   "source": [
    "import nltk\n",
    "from jiwer import wer\n",
    "import librosa\n",
    "import numpy as np\n",
    "import pandas as pd\n",
    "import matplotlib.pyplot as plt\n",
    "from textblob import TextBlob\n",
    "from sklearn.metrics import cohen_kappa_score\n",
    "\n",
    "\n",
    "# NLTK's VADER\n",
    "from nltk.sentiment import SentimentIntensityAnalyzer\n",
    "sia = SentimentIntensityAnalyzer()\n",
    "\n",
    "# FLAIR's en-sentiment\n",
    "from flair.models import TextClassifier\n",
    "from flair.data import Sentence\n",
    "flair_sent = TextClassifier.load('en-sentiment')\n",
    "\n",
    "\n",
    "from sentence_transformers import SentenceTransformer, util\n",
    "minilm = SentenceTransformer('sentence-transformers/all-MiniLM-L6-v2')\n",
    "# bert nli is said to be depreciated\n",
    "bert_nli = SentenceTransformer('bert-base-nli-mean-tokens')\n",
    "mpnet = SentenceTransformer('sentence-transformers/all-mpnet-base-v2')\n",
    "distil_roberta = SentenceTransformer('sentence-transformers/all-distilroberta-v1')\n"
   ]
  },
  {
   "cell_type": "code",
   "execution_count": 13,
   "id": "8db4dd21",
   "metadata": {},
   "outputs": [
    {
     "data": {
      "text/plain": [
       "0.3333333333333333"
      ]
     },
     "execution_count": 13,
     "metadata": {},
     "output_type": "execute_result"
    }
   ],
   "source": [
    "wer('I love you', 'I loathe you')"
   ]
  },
  {
   "cell_type": "code",
   "execution_count": 14,
   "id": "f540ee02",
   "metadata": {},
   "outputs": [
    {
     "data": {
      "text/plain": [
       "0.3333333333333333"
      ]
     },
     "execution_count": 14,
     "metadata": {},
     "output_type": "execute_result"
    }
   ],
   "source": [
    "wer('I love you', 'I luv you')"
   ]
  },
  {
   "cell_type": "markdown",
   "id": "bf43b0fb",
   "metadata": {},
   "source": [
    "## Read in Ratings"
   ]
  },
  {
   "cell_type": "code",
   "execution_count": 13,
   "id": "26ae1324",
   "metadata": {},
   "outputs": [],
   "source": [
    "rater_dir = 'rater_data/'\n",
    "asr_df_K = pd.read_csv(rater_dir + 'ASRMistakesK.csv')\n",
    "asr_df_RP = pd.read_csv(rater_dir + 'ASRMistakesRP.csv')\n",
    "asr_df_RR = pd.read_csv(rater_dir + 'ASRMistakesRR.csv')\n",
    "\n",
    "asr_df_K2 = pd.read_csv(rater_dir + 'ASRMistakesK2.csv')\n",
    "asr_df_RP2 = pd.read_csv(rater_dir + 'ASRMistakesRP2.csv')\n",
    "asr_df_RR2 = pd.read_csv(rater_dir + 'ASRMistakesRR2.csv')\n"
   ]
  },
  {
   "cell_type": "code",
   "execution_count": 14,
   "id": "5052c41d",
   "metadata": {},
   "outputs": [
    {
     "data": {
      "text/html": [
       "<div>\n",
       "<style scoped>\n",
       "    .dataframe tbody tr th:only-of-type {\n",
       "        vertical-align: middle;\n",
       "    }\n",
       "\n",
       "    .dataframe tbody tr th {\n",
       "        vertical-align: top;\n",
       "    }\n",
       "\n",
       "    .dataframe thead th {\n",
       "        text-align: right;\n",
       "    }\n",
       "</style>\n",
       "<table border=\"1\" class=\"dataframe\">\n",
       "  <thead>\n",
       "    <tr style=\"text-align: right;\">\n",
       "      <th></th>\n",
       "      <th>Filename</th>\n",
       "      <th>Correct</th>\n",
       "      <th>ASR</th>\n",
       "      <th>R1</th>\n",
       "      <th>R2</th>\n",
       "      <th>R3</th>\n",
       "    </tr>\n",
       "  </thead>\n",
       "  <tbody>\n",
       "    <tr>\n",
       "      <th>0</th>\n",
       "      <td>CAR0003_0027</td>\n",
       "      <td>okay</td>\n",
       "      <td>propane</td>\n",
       "      <td>2</td>\n",
       "      <td>2</td>\n",
       "      <td>2</td>\n",
       "    </tr>\n",
       "    <tr>\n",
       "      <th>1</th>\n",
       "      <td>CAR0002_0025</td>\n",
       "      <td>sorry yeah the pain has been there this whole ...</td>\n",
       "      <td>si yet the pad has been there this wholl time ...</td>\n",
       "      <td>2</td>\n",
       "      <td>1</td>\n",
       "      <td>2</td>\n",
       "    </tr>\n",
       "    <tr>\n",
       "      <th>2</th>\n",
       "      <td>CAR0002_0049</td>\n",
       "      <td>it made it a bit worse but</td>\n",
       "      <td>it made it a big worse by ta</td>\n",
       "      <td>2</td>\n",
       "      <td>1</td>\n",
       "      <td>1</td>\n",
       "    </tr>\n",
       "    <tr>\n",
       "      <th>3</th>\n",
       "      <td>CAR0001_0078</td>\n",
       "      <td>no</td>\n",
       "      <td>no</td>\n",
       "      <td>0</td>\n",
       "      <td>0</td>\n",
       "      <td>0</td>\n",
       "    </tr>\n",
       "    <tr>\n",
       "      <th>4</th>\n",
       "      <td>CAR0002_0169</td>\n",
       "      <td>a multivitamin</td>\n",
       "      <td>a a multy biteman</td>\n",
       "      <td>2</td>\n",
       "      <td>1</td>\n",
       "      <td>2</td>\n",
       "    </tr>\n",
       "  </tbody>\n",
       "</table>\n",
       "</div>"
      ],
      "text/plain": [
       "       Filename                                            Correct  \\\n",
       "0  CAR0003_0027                                               okay   \n",
       "1  CAR0002_0025  sorry yeah the pain has been there this whole ...   \n",
       "2  CAR0002_0049                         it made it a bit worse but   \n",
       "3  CAR0001_0078                                                 no   \n",
       "4  CAR0002_0169                                     a multivitamin   \n",
       "\n",
       "                                                 ASR  R1  R2  R3  \n",
       "0                                            propane   2   2   2  \n",
       "1  si yet the pad has been there this wholl time ...   2   1   2  \n",
       "2                       it made it a big worse by ta   2   1   1  \n",
       "3                                                 no   0   0   0  \n",
       "4                                  a a multy biteman   2   1   2  "
      ]
     },
     "execution_count": 14,
     "metadata": {},
     "output_type": "execute_result"
    }
   ],
   "source": [
    "#  combine ratings\n",
    "asr_df_K = pd.concat([asr_df_K, asr_df_K2]).reset_index(drop=True)\n",
    "asr_df_RP = pd.concat([asr_df_RP, asr_df_RP2]).reset_index(drop=True)\n",
    "asr_df_RR = pd.concat([asr_df_RR, asr_df_RR2]).reset_index(drop=True)\n",
    "\n",
    "ratings = pd.DataFrame({\n",
    "    'R1': asr_df_K.Rating, \n",
    "    'R2': asr_df_RP.Rating, \n",
    "    'R3': asr_df_RR.Rating,\n",
    "})\n",
    "\n",
    "ratings\n",
    "asr_df_RP.columns\n",
    "\n",
    "# combine ratings with phrases\n",
    "asr_df = pd.DataFrame({\n",
    "    'Filename': asr_df_RP['FIlename'], \n",
    "    'Correct': asr_df_RP['Correct'],\n",
    "    'ASR': asr_df_RP['Output of ASR system'],\n",
    "    'R1': asr_df_K.Rating, \n",
    "    'R2': asr_df_RP.Rating, \n",
    "    'R3': asr_df_RR.Rating,\n",
    "})\n",
    "# ratings\n",
    "asr_df.head()\n"
   ]
  },
  {
   "cell_type": "code",
   "execution_count": 15,
   "id": "369f920b",
   "metadata": {},
   "outputs": [],
   "source": [
    "# asr_df = asr_df.dropna()"
   ]
  },
  {
   "cell_type": "code",
   "execution_count": 16,
   "id": "f549b7e9",
   "metadata": {},
   "outputs": [
    {
     "data": {
      "text/plain": [
       "(150, 6)"
      ]
     },
     "execution_count": 16,
     "metadata": {},
     "output_type": "execute_result"
    }
   ],
   "source": [
    "asr_df.shape"
   ]
  },
  {
   "cell_type": "markdown",
   "id": "23b89566",
   "metadata": {},
   "source": [
    "**Look at rater agreement**"
   ]
  },
  {
   "cell_type": "code",
   "execution_count": 17,
   "id": "6c9bb501",
   "metadata": {},
   "outputs": [
    {
     "data": {
      "text/html": [
       "<div>\n",
       "<style scoped>\n",
       "    .dataframe tbody tr th:only-of-type {\n",
       "        vertical-align: middle;\n",
       "    }\n",
       "\n",
       "    .dataframe tbody tr th {\n",
       "        vertical-align: top;\n",
       "    }\n",
       "\n",
       "    .dataframe thead th {\n",
       "        text-align: right;\n",
       "    }\n",
       "</style>\n",
       "<table border=\"1\" class=\"dataframe\">\n",
       "  <thead>\n",
       "    <tr style=\"text-align: right;\">\n",
       "      <th></th>\n",
       "      <th>R1</th>\n",
       "      <th>R2</th>\n",
       "      <th>R3</th>\n",
       "    </tr>\n",
       "  </thead>\n",
       "  <tbody>\n",
       "  </tbody>\n",
       "</table>\n",
       "</div>"
      ],
      "text/plain": [
       "Empty DataFrame\n",
       "Columns: [R1, R2, R3]\n",
       "Index: []"
      ]
     },
     "execution_count": 17,
     "metadata": {},
     "output_type": "execute_result"
    }
   ],
   "source": [
    "# should be no missing entries\n",
    "ratings[ratings.R2.isna()]\n"
   ]
  },
  {
   "cell_type": "code",
   "execution_count": 18,
   "id": "28575a85",
   "metadata": {},
   "outputs": [],
   "source": [
    "# no missing entries\n",
    "# ratings = ratings.dropna()"
   ]
  },
  {
   "cell_type": "code",
   "execution_count": 19,
   "id": "7d5289fb",
   "metadata": {},
   "outputs": [
    {
     "data": {
      "text/plain": [
       "0.5671324422843256"
      ]
     },
     "execution_count": 19,
     "metadata": {},
     "output_type": "execute_result"
    }
   ],
   "source": [
    "# note: nomally kappa scores above 0.4 are considered pretty good\n",
    "cohen_kappa_score(ratings.R1, ratings.R3)\n"
   ]
  },
  {
   "cell_type": "code",
   "execution_count": 20,
   "id": "6ac450b9",
   "metadata": {},
   "outputs": [
    {
     "data": {
      "text/plain": [
       "0.4159325928762926"
      ]
     },
     "execution_count": 20,
     "metadata": {},
     "output_type": "execute_result"
    }
   ],
   "source": [
    "cohen_kappa_score(ratings.R1, ratings.R2)\n"
   ]
  },
  {
   "cell_type": "code",
   "execution_count": 21,
   "id": "8d2145c6",
   "metadata": {},
   "outputs": [
    {
     "data": {
      "text/plain": [
       "0.43961352657004826"
      ]
     },
     "execution_count": 21,
     "metadata": {},
     "output_type": "execute_result"
    }
   ],
   "source": [
    "cohen_kappa_score(ratings.R2, ratings.R3)\n"
   ]
  },
  {
   "cell_type": "markdown",
   "id": "5f732ade",
   "metadata": {},
   "source": [
    "Value of kapps, Strength of agreement\n",
    "\n",
    "< 0.20,     Poor\n",
    "\n",
    "0.21-0.40\tFair\n",
    "\n",
    "0.41-0.60\tModerate\n",
    "\n",
    "0.61-0.80\tGood"
   ]
  },
  {
   "cell_type": "code",
   "execution_count": 22,
   "id": "f6ca87ea",
   "metadata": {},
   "outputs": [
    {
     "data": {
      "text/plain": [
       "0.4523170901874447"
      ]
     },
     "execution_count": 22,
     "metadata": {},
     "output_type": "execute_result"
    }
   ],
   "source": [
    "from statsmodels.stats.inter_rater import aggregate_raters, fleiss_kappa\n",
    "\n",
    "ag_rate = aggregate_raters(ratings)\n",
    "fleiss_kappa(ag_rate[0])\n"
   ]
  },
  {
   "cell_type": "code",
   "execution_count": 37,
   "id": "736165c6",
   "metadata": {},
   "outputs": [],
   "source": [
    "# df_rate.corr(method=\"spearman\").round(3)\n"
   ]
  },
  {
   "cell_type": "code",
   "execution_count": 23,
   "id": "1133931a",
   "metadata": {},
   "outputs": [
    {
     "data": {
      "text/html": [
       "<div>\n",
       "<style scoped>\n",
       "    .dataframe tbody tr th:only-of-type {\n",
       "        vertical-align: middle;\n",
       "    }\n",
       "\n",
       "    .dataframe tbody tr th {\n",
       "        vertical-align: top;\n",
       "    }\n",
       "\n",
       "    .dataframe thead th {\n",
       "        text-align: right;\n",
       "    }\n",
       "</style>\n",
       "<table border=\"1\" class=\"dataframe\">\n",
       "  <thead>\n",
       "    <tr style=\"text-align: right;\">\n",
       "      <th></th>\n",
       "      <th>R1</th>\n",
       "      <th>R2</th>\n",
       "      <th>R3</th>\n",
       "    </tr>\n",
       "  </thead>\n",
       "  <tbody>\n",
       "    <tr>\n",
       "      <th>R1</th>\n",
       "      <td>1.000</td>\n",
       "      <td>0.727</td>\n",
       "      <td>0.718</td>\n",
       "    </tr>\n",
       "    <tr>\n",
       "      <th>R2</th>\n",
       "      <td>0.727</td>\n",
       "      <td>1.000</td>\n",
       "      <td>0.662</td>\n",
       "    </tr>\n",
       "    <tr>\n",
       "      <th>R3</th>\n",
       "      <td>0.718</td>\n",
       "      <td>0.662</td>\n",
       "      <td>1.000</td>\n",
       "    </tr>\n",
       "  </tbody>\n",
       "</table>\n",
       "</div>"
      ],
      "text/plain": [
       "       R1     R2     R3\n",
       "R1  1.000  0.727  0.718\n",
       "R2  0.727  1.000  0.662\n",
       "R3  0.718  0.662  1.000"
      ]
     },
     "execution_count": 23,
     "metadata": {},
     "output_type": "execute_result"
    }
   ],
   "source": [
    "ratings.corr(method=\"kendall\").round(3)"
   ]
  },
  {
   "cell_type": "code",
   "execution_count": 24,
   "id": "d9f64c51",
   "metadata": {},
   "outputs": [
    {
     "data": {
      "text/html": [
       "<div>\n",
       "<style scoped>\n",
       "    .dataframe tbody tr th:only-of-type {\n",
       "        vertical-align: middle;\n",
       "    }\n",
       "\n",
       "    .dataframe tbody tr th {\n",
       "        vertical-align: top;\n",
       "    }\n",
       "\n",
       "    .dataframe thead th {\n",
       "        text-align: right;\n",
       "    }\n",
       "</style>\n",
       "<table border=\"1\" class=\"dataframe\">\n",
       "  <thead>\n",
       "    <tr style=\"text-align: right;\">\n",
       "      <th></th>\n",
       "      <th>0</th>\n",
       "      <th>1</th>\n",
       "      <th>2</th>\n",
       "    </tr>\n",
       "  </thead>\n",
       "  <tbody>\n",
       "    <tr>\n",
       "      <th>0</th>\n",
       "      <td>2.0</td>\n",
       "      <td>NaN</td>\n",
       "      <td>NaN</td>\n",
       "    </tr>\n",
       "    <tr>\n",
       "      <th>1</th>\n",
       "      <td>2.0</td>\n",
       "      <td>NaN</td>\n",
       "      <td>NaN</td>\n",
       "    </tr>\n",
       "    <tr>\n",
       "      <th>2</th>\n",
       "      <td>1.0</td>\n",
       "      <td>NaN</td>\n",
       "      <td>NaN</td>\n",
       "    </tr>\n",
       "    <tr>\n",
       "      <th>3</th>\n",
       "      <td>0.0</td>\n",
       "      <td>NaN</td>\n",
       "      <td>NaN</td>\n",
       "    </tr>\n",
       "    <tr>\n",
       "      <th>4</th>\n",
       "      <td>2.0</td>\n",
       "      <td>NaN</td>\n",
       "      <td>NaN</td>\n",
       "    </tr>\n",
       "    <tr>\n",
       "      <th>...</th>\n",
       "      <td>...</td>\n",
       "      <td>...</td>\n",
       "      <td>...</td>\n",
       "    </tr>\n",
       "    <tr>\n",
       "      <th>145</th>\n",
       "      <td>1.0</td>\n",
       "      <td>NaN</td>\n",
       "      <td>NaN</td>\n",
       "    </tr>\n",
       "    <tr>\n",
       "      <th>146</th>\n",
       "      <td>0.0</td>\n",
       "      <td>NaN</td>\n",
       "      <td>NaN</td>\n",
       "    </tr>\n",
       "    <tr>\n",
       "      <th>147</th>\n",
       "      <td>2.0</td>\n",
       "      <td>NaN</td>\n",
       "      <td>NaN</td>\n",
       "    </tr>\n",
       "    <tr>\n",
       "      <th>148</th>\n",
       "      <td>0.0</td>\n",
       "      <td>1.0</td>\n",
       "      <td>2.0</td>\n",
       "    </tr>\n",
       "    <tr>\n",
       "      <th>149</th>\n",
       "      <td>2.0</td>\n",
       "      <td>NaN</td>\n",
       "      <td>NaN</td>\n",
       "    </tr>\n",
       "  </tbody>\n",
       "</table>\n",
       "<p>150 rows × 3 columns</p>\n",
       "</div>"
      ],
      "text/plain": [
       "       0    1    2\n",
       "0    2.0  NaN  NaN\n",
       "1    2.0  NaN  NaN\n",
       "2    1.0  NaN  NaN\n",
       "3    0.0  NaN  NaN\n",
       "4    2.0  NaN  NaN\n",
       "..   ...  ...  ...\n",
       "145  1.0  NaN  NaN\n",
       "146  0.0  NaN  NaN\n",
       "147  2.0  NaN  NaN\n",
       "148  0.0  1.0  2.0\n",
       "149  2.0  NaN  NaN\n",
       "\n",
       "[150 rows x 3 columns]"
      ]
     },
     "execution_count": 24,
     "metadata": {},
     "output_type": "execute_result"
    }
   ],
   "source": [
    "# avg_rating = \n",
    "ratings[['R1', 'R2', 'R3']].mode(axis=1)\n",
    "# avg_rating[0]"
   ]
  },
  {
   "cell_type": "code",
   "execution_count": 25,
   "id": "33d9ce03",
   "metadata": {},
   "outputs": [
    {
     "data": {
      "text/html": [
       "<div>\n",
       "<style scoped>\n",
       "    .dataframe tbody tr th:only-of-type {\n",
       "        vertical-align: middle;\n",
       "    }\n",
       "\n",
       "    .dataframe tbody tr th {\n",
       "        vertical-align: top;\n",
       "    }\n",
       "\n",
       "    .dataframe thead th {\n",
       "        text-align: right;\n",
       "    }\n",
       "</style>\n",
       "<table border=\"1\" class=\"dataframe\">\n",
       "  <thead>\n",
       "    <tr style=\"text-align: right;\">\n",
       "      <th></th>\n",
       "      <th>R1</th>\n",
       "      <th>R2</th>\n",
       "      <th>R3</th>\n",
       "    </tr>\n",
       "  </thead>\n",
       "  <tbody>\n",
       "    <tr>\n",
       "      <th>145</th>\n",
       "      <td>2</td>\n",
       "      <td>1</td>\n",
       "      <td>1</td>\n",
       "    </tr>\n",
       "    <tr>\n",
       "      <th>146</th>\n",
       "      <td>0</td>\n",
       "      <td>0</td>\n",
       "      <td>0</td>\n",
       "    </tr>\n",
       "    <tr>\n",
       "      <th>147</th>\n",
       "      <td>2</td>\n",
       "      <td>1</td>\n",
       "      <td>2</td>\n",
       "    </tr>\n",
       "    <tr>\n",
       "      <th>148</th>\n",
       "      <td>2</td>\n",
       "      <td>1</td>\n",
       "      <td>0</td>\n",
       "    </tr>\n",
       "    <tr>\n",
       "      <th>149</th>\n",
       "      <td>2</td>\n",
       "      <td>2</td>\n",
       "      <td>2</td>\n",
       "    </tr>\n",
       "  </tbody>\n",
       "</table>\n",
       "</div>"
      ],
      "text/plain": [
       "     R1  R2  R3\n",
       "145   2   1   1\n",
       "146   0   0   0\n",
       "147   2   1   2\n",
       "148   2   1   0\n",
       "149   2   2   2"
      ]
     },
     "execution_count": 25,
     "metadata": {},
     "output_type": "execute_result"
    }
   ],
   "source": [
    "ratings.tail()"
   ]
  },
  {
   "cell_type": "code",
   "execution_count": null,
   "id": "c52111e8",
   "metadata": {},
   "outputs": [],
   "source": []
  },
  {
   "cell_type": "code",
   "execution_count": 26,
   "id": "fcf9f968",
   "metadata": {},
   "outputs": [],
   "source": [
    "pairs = list(zip(asr_df.Correct, asr_df[\"ASR\"]))"
   ]
  },
  {
   "cell_type": "code",
   "execution_count": 27,
   "id": "9744dac0",
   "metadata": {},
   "outputs": [],
   "source": [
    "def get_dif_sent(s, s1):\n",
    "    return sia.polarity_scores(s)['compound'] - sia.polarity_scores(s1)['compound']\n",
    "\n",
    "def get_cos_dis(s, s1, model):\n",
    "    embedding_s = model.encode(s, convert_to_tensor=True)\n",
    "    embedding_s1 = model.encode(s1, convert_to_tensor=True)\n",
    "    return util.pytorch_cos_sim(embedding_s, embedding_s1)\n",
    "\n",
    "\n",
    "def flair_get_sent_score(s):\n",
    "    sent = Sentence(s)\n",
    "    flair_sent.predict(sent)\n",
    "    lab = sent.get_label()\n",
    "    if lab.value == \"NEGATIVE\": \n",
    "        return lab.score * -1\n",
    "    else: \n",
    "        return lab.score\n",
    "    \n",
    "def get_dif_sent_flair(s, s1):\n",
    "    v1 = flair_get_sent_score(s)\n",
    "    v2 = flair_get_sent_score(s1)\n",
    "    return v1 - v2\n",
    "\n",
    "\n",
    "def get_dif_sent_tb(s, s1):\n",
    "    sblob = TextBlob(s)\n",
    "    s1blob = TextBlob(s1)\n",
    "    return sblob.sentiment.polarity - s1blob.sentiment.polarity"
   ]
  },
  {
   "cell_type": "code",
   "execution_count": 28,
   "id": "ca9ab5e3",
   "metadata": {},
   "outputs": [],
   "source": [
    "# calculate severity scores, this might take more than 1 minute to run\n",
    "measures = []\n",
    "\n",
    "for pair in pairs:\n",
    "#     print(pair)\n",
    "    word_err = wer(pair[0], pair[1])\n",
    "    \n",
    "    # nltk vader sentiment\n",
    "    dif_sent = np.abs(get_dif_sent(pair[0], pair[1]))\n",
    "    dif_sent_2 = dif_sent ** 2\n",
    "    \n",
    "    # flair sentiment\n",
    "    flair_dif_sent = np.abs(get_dif_sent_flair(pair[0], pair[1]))\n",
    "    flair_dif_sent_2 = flair_dif_sent**2\n",
    "    \n",
    "    # textblob sentiment\n",
    "    tb_dif_sent = np.abs(get_dif_sent_tb(pair[0], pair[1]))\n",
    "    tb_dif_sent_2 = tb_dif_sent**2\n",
    "        \n",
    "\n",
    "    minilm_score = 1 - get_cos_dis(pair[0], pair[1], minilm).item()\n",
    "    bert_nli_score = 1 - get_cos_dis(pair[0], pair[1], bert_nli).item()\n",
    "    mpnet_score = 1 - get_cos_dis(pair[0], pair[1], mpnet).item()\n",
    "    dr_score = 1 - get_cos_dis(pair[0], pair[1], distil_roberta).item()    \n",
    "\n",
    "    \n",
    "    measures.append([pair, word_err, \n",
    "                     dif_sent, \n",
    "#                      dif_sent_2, \n",
    "                     flair_dif_sent, \n",
    "#                      flair_dif_sent_2,\n",
    "                     tb_dif_sent, \n",
    "#                      tb_dif_sent_2,\n",
    "                     minilm_score, bert_nli_score, mpnet_score, dr_score])\n",
    "\n"
   ]
  },
  {
   "cell_type": "code",
   "execution_count": 29,
   "id": "5671e6d1",
   "metadata": {},
   "outputs": [],
   "source": [
    "measures_df = pd.DataFrame(measures, columns =['pairs', 'WER', \n",
    "                                               'NLTK_DS', \n",
    "                                               'FLAIR_DS', \n",
    "                                               'TB_DS', \n",
    "                                               'MiniLM', 'BertNLI', 'MPNET', 'DisRob'],)\n",
    "\n"
   ]
  },
  {
   "cell_type": "code",
   "execution_count": 32,
   "id": "05c1eed4",
   "metadata": {},
   "outputs": [
    {
     "data": {
      "text/html": [
       "<div>\n",
       "<style scoped>\n",
       "    .dataframe tbody tr th:only-of-type {\n",
       "        vertical-align: middle;\n",
       "    }\n",
       "\n",
       "    .dataframe tbody tr th {\n",
       "        vertical-align: top;\n",
       "    }\n",
       "\n",
       "    .dataframe thead th {\n",
       "        text-align: right;\n",
       "    }\n",
       "</style>\n",
       "<table border=\"1\" class=\"dataframe\">\n",
       "  <thead>\n",
       "    <tr style=\"text-align: right;\">\n",
       "      <th></th>\n",
       "      <th>pairs</th>\n",
       "      <th>WER</th>\n",
       "      <th>NLTK_DS</th>\n",
       "      <th>FLAIR_DS</th>\n",
       "      <th>TB_DS</th>\n",
       "      <th>MiniLM</th>\n",
       "      <th>BertNLI</th>\n",
       "      <th>MPNET</th>\n",
       "      <th>DisRob</th>\n",
       "    </tr>\n",
       "  </thead>\n",
       "  <tbody>\n",
       "    <tr>\n",
       "      <th>0</th>\n",
       "      <td>(okay, propane)</td>\n",
       "      <td>1.000</td>\n",
       "      <td>0.226</td>\n",
       "      <td>1.549</td>\n",
       "      <td>0.500</td>\n",
       "      <td>0.844</td>\n",
       "      <td>0.399</td>\n",
       "      <td>0.837</td>\n",
       "      <td>0.880</td>\n",
       "    </tr>\n",
       "    <tr>\n",
       "      <th>1</th>\n",
       "      <td>(sorry yeah the pain has been there this whole...</td>\n",
       "      <td>0.333</td>\n",
       "      <td>0.194</td>\n",
       "      <td>0.000</td>\n",
       "      <td>0.167</td>\n",
       "      <td>0.443</td>\n",
       "      <td>0.089</td>\n",
       "      <td>0.410</td>\n",
       "      <td>0.635</td>\n",
       "    </tr>\n",
       "    <tr>\n",
       "      <th>2</th>\n",
       "      <td>(it made it a bit worse but, it made it a big ...</td>\n",
       "      <td>0.429</td>\n",
       "      <td>0.215</td>\n",
       "      <td>0.000</td>\n",
       "      <td>0.200</td>\n",
       "      <td>0.348</td>\n",
       "      <td>0.161</td>\n",
       "      <td>0.249</td>\n",
       "      <td>0.296</td>\n",
       "    </tr>\n",
       "    <tr>\n",
       "      <th>3</th>\n",
       "      <td>(no, no)</td>\n",
       "      <td>0.000</td>\n",
       "      <td>0.000</td>\n",
       "      <td>0.000</td>\n",
       "      <td>0.000</td>\n",
       "      <td>-0.000</td>\n",
       "      <td>0.000</td>\n",
       "      <td>0.000</td>\n",
       "      <td>0.000</td>\n",
       "    </tr>\n",
       "    <tr>\n",
       "      <th>4</th>\n",
       "      <td>(a multivitamin, a a multy biteman)</td>\n",
       "      <td>1.500</td>\n",
       "      <td>0.000</td>\n",
       "      <td>1.999</td>\n",
       "      <td>0.000</td>\n",
       "      <td>0.799</td>\n",
       "      <td>0.622</td>\n",
       "      <td>0.704</td>\n",
       "      <td>0.724</td>\n",
       "    </tr>\n",
       "  </tbody>\n",
       "</table>\n",
       "</div>"
      ],
      "text/plain": [
       "                                               pairs    WER  NLTK_DS  \\\n",
       "0                                    (okay, propane)  1.000    0.226   \n",
       "1  (sorry yeah the pain has been there this whole...  0.333    0.194   \n",
       "2  (it made it a bit worse but, it made it a big ...  0.429    0.215   \n",
       "3                                           (no, no)  0.000    0.000   \n",
       "4                (a multivitamin, a a multy biteman)  1.500    0.000   \n",
       "\n",
       "   FLAIR_DS  TB_DS  MiniLM  BertNLI  MPNET  DisRob  \n",
       "0     1.549  0.500   0.844    0.399  0.837   0.880  \n",
       "1     0.000  0.167   0.443    0.089  0.410   0.635  \n",
       "2     0.000  0.200   0.348    0.161  0.249   0.296  \n",
       "3     0.000  0.000  -0.000    0.000  0.000   0.000  \n",
       "4     1.999  0.000   0.799    0.622  0.704   0.724  "
      ]
     },
     "execution_count": 32,
     "metadata": {},
     "output_type": "execute_result"
    }
   ],
   "source": [
    "measures_df.head().round(3)"
   ]
  },
  {
   "cell_type": "code",
   "execution_count": 36,
   "id": "88f419c8",
   "metadata": {},
   "outputs": [
    {
     "name": "stdout",
     "output_type": "stream",
     "text": [
      "('a multivitamin', 'a a multy biteman')\n",
      "1.9989129304885864\n"
     ]
    }
   ],
   "source": [
    "for i, row in measures_df[['pairs', 'FLAIR_DS']].sort_values('FLAIR_DS', ascending=False).iterrows():\n",
    "    print(row.pairs)\n",
    "    print(row.FLAIR_DS)\n",
    "    break\n"
   ]
  },
  {
   "cell_type": "code",
   "execution_count": 38,
   "id": "a3306537",
   "metadata": {},
   "outputs": [],
   "source": [
    "# get mode rating\n",
    "avg_rating = asr_df[['R1', 'R2', 'R3']].mode(axis=1)\n",
    "# avg_rating[0]"
   ]
  },
  {
   "cell_type": "code",
   "execution_count": 39,
   "id": "046d753b",
   "metadata": {},
   "outputs": [],
   "source": [
    "measures_df['Human'] = avg_rating[0]\n"
   ]
  },
  {
   "cell_type": "code",
   "execution_count": 41,
   "id": "78f3a73c",
   "metadata": {},
   "outputs": [
    {
     "data": {
      "text/html": [
       "<div>\n",
       "<style scoped>\n",
       "    .dataframe tbody tr th:only-of-type {\n",
       "        vertical-align: middle;\n",
       "    }\n",
       "\n",
       "    .dataframe tbody tr th {\n",
       "        vertical-align: top;\n",
       "    }\n",
       "\n",
       "    .dataframe thead th {\n",
       "        text-align: right;\n",
       "    }\n",
       "</style>\n",
       "<table border=\"1\" class=\"dataframe\">\n",
       "  <thead>\n",
       "    <tr style=\"text-align: right;\">\n",
       "      <th></th>\n",
       "      <th>pairs</th>\n",
       "      <th>WER</th>\n",
       "      <th>NLTK_DS</th>\n",
       "      <th>FLAIR_DS</th>\n",
       "      <th>TB_DS</th>\n",
       "      <th>MiniLM</th>\n",
       "      <th>BertNLI</th>\n",
       "      <th>MPNET</th>\n",
       "      <th>DisRob</th>\n",
       "      <th>Human</th>\n",
       "    </tr>\n",
       "  </thead>\n",
       "  <tbody>\n",
       "    <tr>\n",
       "      <th>0</th>\n",
       "      <td>(okay, propane)</td>\n",
       "      <td>1.000</td>\n",
       "      <td>0.226</td>\n",
       "      <td>1.549</td>\n",
       "      <td>0.500</td>\n",
       "      <td>0.844</td>\n",
       "      <td>0.399</td>\n",
       "      <td>0.837</td>\n",
       "      <td>0.880</td>\n",
       "      <td>2.0</td>\n",
       "    </tr>\n",
       "    <tr>\n",
       "      <th>1</th>\n",
       "      <td>(sorry yeah the pain has been there this whole...</td>\n",
       "      <td>0.333</td>\n",
       "      <td>0.194</td>\n",
       "      <td>0.000</td>\n",
       "      <td>0.167</td>\n",
       "      <td>0.443</td>\n",
       "      <td>0.089</td>\n",
       "      <td>0.410</td>\n",
       "      <td>0.635</td>\n",
       "      <td>2.0</td>\n",
       "    </tr>\n",
       "    <tr>\n",
       "      <th>2</th>\n",
       "      <td>(it made it a bit worse but, it made it a big ...</td>\n",
       "      <td>0.429</td>\n",
       "      <td>0.215</td>\n",
       "      <td>0.000</td>\n",
       "      <td>0.200</td>\n",
       "      <td>0.348</td>\n",
       "      <td>0.161</td>\n",
       "      <td>0.249</td>\n",
       "      <td>0.296</td>\n",
       "      <td>1.0</td>\n",
       "    </tr>\n",
       "    <tr>\n",
       "      <th>3</th>\n",
       "      <td>(no, no)</td>\n",
       "      <td>0.000</td>\n",
       "      <td>0.000</td>\n",
       "      <td>0.000</td>\n",
       "      <td>0.000</td>\n",
       "      <td>-0.000</td>\n",
       "      <td>0.000</td>\n",
       "      <td>0.000</td>\n",
       "      <td>0.000</td>\n",
       "      <td>0.0</td>\n",
       "    </tr>\n",
       "    <tr>\n",
       "      <th>4</th>\n",
       "      <td>(a multivitamin, a a multy biteman)</td>\n",
       "      <td>1.500</td>\n",
       "      <td>0.000</td>\n",
       "      <td>1.999</td>\n",
       "      <td>0.000</td>\n",
       "      <td>0.799</td>\n",
       "      <td>0.622</td>\n",
       "      <td>0.704</td>\n",
       "      <td>0.724</td>\n",
       "      <td>2.0</td>\n",
       "    </tr>\n",
       "  </tbody>\n",
       "</table>\n",
       "</div>"
      ],
      "text/plain": [
       "                                               pairs    WER  NLTK_DS  \\\n",
       "0                                    (okay, propane)  1.000    0.226   \n",
       "1  (sorry yeah the pain has been there this whole...  0.333    0.194   \n",
       "2  (it made it a bit worse but, it made it a big ...  0.429    0.215   \n",
       "3                                           (no, no)  0.000    0.000   \n",
       "4                (a multivitamin, a a multy biteman)  1.500    0.000   \n",
       "\n",
       "   FLAIR_DS  TB_DS  MiniLM  BertNLI  MPNET  DisRob  Human  \n",
       "0     1.549  0.500   0.844    0.399  0.837   0.880    2.0  \n",
       "1     0.000  0.167   0.443    0.089  0.410   0.635    2.0  \n",
       "2     0.000  0.200   0.348    0.161  0.249   0.296    1.0  \n",
       "3     0.000  0.000  -0.000    0.000  0.000   0.000    0.0  \n",
       "4     1.999  0.000   0.799    0.622  0.704   0.724    2.0  "
      ]
     },
     "execution_count": 41,
     "metadata": {},
     "output_type": "execute_result"
    }
   ],
   "source": [
    "measures_df.head().round(3)"
   ]
  },
  {
   "cell_type": "code",
   "execution_count": 42,
   "id": "a8bc995a",
   "metadata": {},
   "outputs": [],
   "source": [
    "measures_df.to_pickle('measures_df_mode_rating.pkl')\n"
   ]
  },
  {
   "cell_type": "code",
   "execution_count": 44,
   "id": "8bf12636",
   "metadata": {},
   "outputs": [
    {
     "data": {
      "text/html": [
       "<div>\n",
       "<style scoped>\n",
       "    .dataframe tbody tr th:only-of-type {\n",
       "        vertical-align: middle;\n",
       "    }\n",
       "\n",
       "    .dataframe tbody tr th {\n",
       "        vertical-align: top;\n",
       "    }\n",
       "\n",
       "    .dataframe thead th {\n",
       "        text-align: right;\n",
       "    }\n",
       "</style>\n",
       "<table border=\"1\" class=\"dataframe\">\n",
       "  <thead>\n",
       "    <tr style=\"text-align: right;\">\n",
       "      <th></th>\n",
       "      <th>pairs</th>\n",
       "      <th>WER</th>\n",
       "      <th>NLTK_DS</th>\n",
       "      <th>FLAIR_DS</th>\n",
       "      <th>TB_DS</th>\n",
       "      <th>MiniLM</th>\n",
       "      <th>BertNLI</th>\n",
       "      <th>MPNET</th>\n",
       "      <th>DisRob</th>\n",
       "      <th>Human</th>\n",
       "    </tr>\n",
       "  </thead>\n",
       "  <tbody>\n",
       "    <tr>\n",
       "      <th>0</th>\n",
       "      <td>(okay, propane)</td>\n",
       "      <td>1.000</td>\n",
       "      <td>0.226</td>\n",
       "      <td>1.549</td>\n",
       "      <td>0.500</td>\n",
       "      <td>0.844</td>\n",
       "      <td>0.399</td>\n",
       "      <td>0.837</td>\n",
       "      <td>0.880</td>\n",
       "      <td>2.0</td>\n",
       "    </tr>\n",
       "    <tr>\n",
       "      <th>1</th>\n",
       "      <td>(sorry yeah the pain has been there this whole...</td>\n",
       "      <td>0.333</td>\n",
       "      <td>0.194</td>\n",
       "      <td>0.000</td>\n",
       "      <td>0.167</td>\n",
       "      <td>0.443</td>\n",
       "      <td>0.089</td>\n",
       "      <td>0.410</td>\n",
       "      <td>0.635</td>\n",
       "      <td>2.0</td>\n",
       "    </tr>\n",
       "    <tr>\n",
       "      <th>2</th>\n",
       "      <td>(it made it a bit worse but, it made it a big ...</td>\n",
       "      <td>0.429</td>\n",
       "      <td>0.215</td>\n",
       "      <td>0.000</td>\n",
       "      <td>0.200</td>\n",
       "      <td>0.348</td>\n",
       "      <td>0.161</td>\n",
       "      <td>0.249</td>\n",
       "      <td>0.296</td>\n",
       "      <td>1.0</td>\n",
       "    </tr>\n",
       "    <tr>\n",
       "      <th>3</th>\n",
       "      <td>(no, no)</td>\n",
       "      <td>0.000</td>\n",
       "      <td>0.000</td>\n",
       "      <td>0.000</td>\n",
       "      <td>0.000</td>\n",
       "      <td>-0.000</td>\n",
       "      <td>0.000</td>\n",
       "      <td>0.000</td>\n",
       "      <td>0.000</td>\n",
       "      <td>0.0</td>\n",
       "    </tr>\n",
       "    <tr>\n",
       "      <th>4</th>\n",
       "      <td>(a multivitamin, a a multy biteman)</td>\n",
       "      <td>1.500</td>\n",
       "      <td>0.000</td>\n",
       "      <td>1.999</td>\n",
       "      <td>0.000</td>\n",
       "      <td>0.799</td>\n",
       "      <td>0.622</td>\n",
       "      <td>0.704</td>\n",
       "      <td>0.724</td>\n",
       "      <td>2.0</td>\n",
       "    </tr>\n",
       "  </tbody>\n",
       "</table>\n",
       "</div>"
      ],
      "text/plain": [
       "                                               pairs    WER  NLTK_DS  \\\n",
       "0                                    (okay, propane)  1.000    0.226   \n",
       "1  (sorry yeah the pain has been there this whole...  0.333    0.194   \n",
       "2  (it made it a bit worse but, it made it a big ...  0.429    0.215   \n",
       "3                                           (no, no)  0.000    0.000   \n",
       "4                (a multivitamin, a a multy biteman)  1.500    0.000   \n",
       "\n",
       "   FLAIR_DS  TB_DS  MiniLM  BertNLI  MPNET  DisRob  Human  \n",
       "0     1.549  0.500   0.844    0.399  0.837   0.880    2.0  \n",
       "1     0.000  0.167   0.443    0.089  0.410   0.635    2.0  \n",
       "2     0.000  0.200   0.348    0.161  0.249   0.296    1.0  \n",
       "3     0.000  0.000  -0.000    0.000  0.000   0.000    0.0  \n",
       "4     1.999  0.000   0.799    0.622  0.704   0.724    2.0  "
      ]
     },
     "execution_count": 44,
     "metadata": {},
     "output_type": "execute_result"
    }
   ],
   "source": [
    "import pickle\n",
    "\n",
    "with open('measures_df_mode_rating.pkl', 'rb') as f:\n",
    "    measures_df = pickle.load(f)\n",
    "measures_df.head().round(3)"
   ]
  },
  {
   "cell_type": "code",
   "execution_count": 45,
   "id": "ad9af6b9",
   "metadata": {},
   "outputs": [
    {
     "data": {
      "text/html": [
       "<div>\n",
       "<style scoped>\n",
       "    .dataframe tbody tr th:only-of-type {\n",
       "        vertical-align: middle;\n",
       "    }\n",
       "\n",
       "    .dataframe tbody tr th {\n",
       "        vertical-align: top;\n",
       "    }\n",
       "\n",
       "    .dataframe thead th {\n",
       "        text-align: right;\n",
       "    }\n",
       "</style>\n",
       "<table border=\"1\" class=\"dataframe\">\n",
       "  <thead>\n",
       "    <tr style=\"text-align: right;\">\n",
       "      <th></th>\n",
       "      <th>WER</th>\n",
       "      <th>NLTK_DS</th>\n",
       "      <th>FLAIR_DS</th>\n",
       "      <th>TB_DS</th>\n",
       "      <th>MiniLM</th>\n",
       "      <th>BertNLI</th>\n",
       "      <th>MPNET</th>\n",
       "      <th>DisRob</th>\n",
       "      <th>Human</th>\n",
       "    </tr>\n",
       "  </thead>\n",
       "  <tbody>\n",
       "    <tr>\n",
       "      <th>Human</th>\n",
       "      <td>0.53</td>\n",
       "      <td>0.34</td>\n",
       "      <td>0.25</td>\n",
       "      <td>0.27</td>\n",
       "      <td>0.68</td>\n",
       "      <td>0.54</td>\n",
       "      <td>0.7</td>\n",
       "      <td>0.73</td>\n",
       "      <td>1.0</td>\n",
       "    </tr>\n",
       "  </tbody>\n",
       "</table>\n",
       "</div>"
      ],
      "text/plain": [
       "        WER  NLTK_DS  FLAIR_DS  TB_DS  MiniLM  BertNLI  MPNET  DisRob  Human\n",
       "Human  0.53     0.34      0.25   0.27    0.68     0.54    0.7    0.73    1.0"
      ]
     },
     "execution_count": 45,
     "metadata": {},
     "output_type": "execute_result"
    }
   ],
   "source": [
    "measures_df.corr(numeric_only=True).round(2).tail(1)\n"
   ]
  },
  {
   "cell_type": "code",
   "execution_count": 46,
   "id": "955e048c",
   "metadata": {},
   "outputs": [
    {
     "data": {
      "text/html": [
       "<div>\n",
       "<style scoped>\n",
       "    .dataframe tbody tr th:only-of-type {\n",
       "        vertical-align: middle;\n",
       "    }\n",
       "\n",
       "    .dataframe tbody tr th {\n",
       "        vertical-align: top;\n",
       "    }\n",
       "\n",
       "    .dataframe thead th {\n",
       "        text-align: right;\n",
       "    }\n",
       "</style>\n",
       "<table border=\"1\" class=\"dataframe\">\n",
       "  <thead>\n",
       "    <tr style=\"text-align: right;\">\n",
       "      <th></th>\n",
       "      <th>WER</th>\n",
       "      <th>NLTK_DS</th>\n",
       "      <th>FLAIR_DS</th>\n",
       "      <th>TB_DS</th>\n",
       "      <th>MiniLM</th>\n",
       "      <th>BertNLI</th>\n",
       "      <th>MPNET</th>\n",
       "      <th>DisRob</th>\n",
       "      <th>Human</th>\n",
       "    </tr>\n",
       "  </thead>\n",
       "  <tbody>\n",
       "    <tr>\n",
       "      <th>Human</th>\n",
       "      <td>0.53</td>\n",
       "      <td>0.34</td>\n",
       "      <td>0.42</td>\n",
       "      <td>0.34</td>\n",
       "      <td>0.68</td>\n",
       "      <td>0.65</td>\n",
       "      <td>0.69</td>\n",
       "      <td>0.72</td>\n",
       "      <td>1.0</td>\n",
       "    </tr>\n",
       "  </tbody>\n",
       "</table>\n",
       "</div>"
      ],
      "text/plain": [
       "        WER  NLTK_DS  FLAIR_DS  TB_DS  MiniLM  BertNLI  MPNET  DisRob  Human\n",
       "Human  0.53     0.34      0.42   0.34    0.68     0.65   0.69    0.72    1.0"
      ]
     },
     "execution_count": 46,
     "metadata": {},
     "output_type": "execute_result"
    }
   ],
   "source": [
    "measures_df.corr(method=\"spearman\", numeric_only=True).round(2).tail(1)\n"
   ]
  },
  {
   "cell_type": "code",
   "execution_count": 47,
   "id": "2ac91bbf",
   "metadata": {},
   "outputs": [
    {
     "data": {
      "text/html": [
       "<div>\n",
       "<style scoped>\n",
       "    .dataframe tbody tr th:only-of-type {\n",
       "        vertical-align: middle;\n",
       "    }\n",
       "\n",
       "    .dataframe tbody tr th {\n",
       "        vertical-align: top;\n",
       "    }\n",
       "\n",
       "    .dataframe thead th {\n",
       "        text-align: right;\n",
       "    }\n",
       "</style>\n",
       "<table border=\"1\" class=\"dataframe\">\n",
       "  <thead>\n",
       "    <tr style=\"text-align: right;\">\n",
       "      <th></th>\n",
       "      <th>WER</th>\n",
       "      <th>NLTK_DS</th>\n",
       "      <th>FLAIR_DS</th>\n",
       "      <th>TB_DS</th>\n",
       "      <th>MiniLM</th>\n",
       "      <th>BertNLI</th>\n",
       "      <th>MPNET</th>\n",
       "      <th>DisRob</th>\n",
       "      <th>Human</th>\n",
       "    </tr>\n",
       "  </thead>\n",
       "  <tbody>\n",
       "    <tr>\n",
       "      <th>Human</th>\n",
       "      <td>0.43</td>\n",
       "      <td>0.29</td>\n",
       "      <td>0.34</td>\n",
       "      <td>0.29</td>\n",
       "      <td>0.55</td>\n",
       "      <td>0.53</td>\n",
       "      <td>0.56</td>\n",
       "      <td>0.59</td>\n",
       "      <td>1.0</td>\n",
       "    </tr>\n",
       "  </tbody>\n",
       "</table>\n",
       "</div>"
      ],
      "text/plain": [
       "        WER  NLTK_DS  FLAIR_DS  TB_DS  MiniLM  BertNLI  MPNET  DisRob  Human\n",
       "Human  0.43     0.29      0.34   0.29    0.55     0.53   0.56    0.59    1.0"
      ]
     },
     "execution_count": 47,
     "metadata": {},
     "output_type": "execute_result"
    }
   ],
   "source": [
    "measures_df.corr(method=\"kendall\", numeric_only=True).round(2).tail(1)\n"
   ]
  },
  {
   "cell_type": "markdown",
   "id": "a14b4fcc",
   "metadata": {},
   "source": [
    "### Plot Correlations"
   ]
  },
  {
   "cell_type": "code",
   "execution_count": 31,
   "id": "2367f5ac",
   "metadata": {},
   "outputs": [],
   "source": [
    "# from plotnine import *\n",
    "\n",
    "# %matplotlib inline"
   ]
  },
  {
   "cell_type": "code",
   "execution_count": 55,
   "id": "e8bae5ab",
   "metadata": {},
   "outputs": [],
   "source": [
    "%matplotlib inline\n",
    "import plotnine as p9\n",
    "import plotly.express as px\n",
    "\n"
   ]
  },
  {
   "cell_type": "code",
   "execution_count": 50,
   "id": "a199a656",
   "metadata": {},
   "outputs": [
    {
     "data": {
      "image/png": "[encoded data removed]",
      "text/plain": [
       "<Figure size 640x480 with 1 Axes>"
      ]
     },
     "metadata": {},
     "output_type": "display_data"
    },
    {
     "data": {
      "text/plain": [
       "<ggplot: (8760126705770)>"
      ]
     },
     "execution_count": 50,
     "metadata": {},
     "output_type": "execute_result"
    }
   ],
   "source": [
    "plot_hu_mpn = (p9.ggplot(data=measures_df,\n",
    "           mapping=p9.aes(x='Human', y='WER'))\n",
    "    + p9.geom_point()\n",
    "    + p9.xlab(\"Human Ratings\")\n",
    "    + p9.ylab(\"WER\")\n",
    "#     + p9.geom_smooth(method='lm')\n",
    "    + p9.scales.ylim(-0.1,2)\n",
    "#     + p9.themes.element_text(size=1)\n",
    ")\n",
    "\n",
    "plot_hu_mpn\n",
    "# plot_hu_mpn.save(\"hu_wer.png\")"
   ]
  },
  {
   "cell_type": "code",
   "execution_count": 51,
   "id": "a29a5f7b",
   "metadata": {},
   "outputs": [
    {
     "data": {
      "image/png": "[encoded data removed]",
      "text/plain": [
       "<Figure size 640x480 with 1 Axes>"
      ]
     },
     "metadata": {},
     "output_type": "display_data"
    },
    {
     "data": {
      "text/plain": [
       "<ggplot: (8760126749118)>"
      ]
     },
     "execution_count": 51,
     "metadata": {},
     "output_type": "execute_result"
    }
   ],
   "source": [
    "plot_hu_mpn = (p9.ggplot(data=measures_df,\n",
    "           mapping=p9.aes(x='Human', y='FLAIR_DS'))\n",
    "    + p9.geom_point()\n",
    "    + p9.xlab(\"Human Ratings\")\n",
    "    + p9.ylab(\"Severity Score (FLAIR)\")\n",
    "#     + p9.geom_smooth(method='lm')\n",
    "    + p9.scales.ylim(-0.1,2)\n",
    "#     + p9.themes.element_text(size=1)\n",
    ")\n",
    "\n",
    "plot_hu_mpn\n",
    "# plot_hu_mpn.save(\"hu_flair.png\")"
   ]
  },
  {
   "cell_type": "code",
   "execution_count": 52,
   "id": "5bfcd3ee",
   "metadata": {},
   "outputs": [
    {
     "data": {
      "image/png": "[encoded data removed]",
      "text/plain": [
       "<Figure size 640x480 with 1 Axes>"
      ]
     },
     "metadata": {},
     "output_type": "display_data"
    },
    {
     "data": {
      "text/plain": [
       "<ggplot: (8760126851684)>"
      ]
     },
     "execution_count": 52,
     "metadata": {},
     "output_type": "execute_result"
    }
   ],
   "source": [
    "plot_hu_mpn = (p9.ggplot(data=measures_df,\n",
    "           mapping=p9.aes(x='Human', y='DisRob'))\n",
    "    + p9.geom_point()\n",
    "    + p9.xlab(\"Human Ratings\")\n",
    "    + p9.ylab(\"Severity Score (DisRob)\")\n",
    "#     + p9.geom_smooth(method='lm')\n",
    "    + p9.scales.ylim(-0.1,2)\n",
    "#     + p9.themes.element_text(size=1)\n",
    ")\n",
    "\n",
    "plot_hu_mpn\n",
    "# plot_hu_mpn.save(\"hu_disrob.png\")"
   ]
  },
  {
   "cell_type": "code",
   "execution_count": 53,
   "id": "c557bb5b",
   "metadata": {},
   "outputs": [
    {
     "data": {
      "image/png": "[encoded data removed]",
      "text/plain": [
       "<Figure size 640x480 with 1 Axes>"
      ]
     },
     "metadata": {},
     "output_type": "display_data"
    },
    {
     "data": {
      "text/plain": [
       "<ggplot: (8760126946699)>"
      ]
     },
     "execution_count": 53,
     "metadata": {},
     "output_type": "execute_result"
    }
   ],
   "source": [
    "# NLTK_DS\tFLAIR_DS\tTB_DS\n",
    "plot_hu_mpn = (p9.ggplot(data=measures_df,\n",
    "           mapping=p9.aes(x='Human', y='TB_DS'))\n",
    "    + p9.geom_point()\n",
    "    + p9.xlab(\"Human Ratings\")\n",
    "    + p9.ylab(\"Severity Score (TextBlob)\")\n",
    "#     + p9.geom_smooth(method='lm')\n",
    "    + p9.scales.ylim(-0.1,2)\n",
    "#     + p9.themes.element_text(size=1)\n",
    ")\n",
    "\n",
    "plot_hu_mpn\n",
    "# plot_hu_mpn.save(\"imgs/hu_TB_DS.png\")"
   ]
  },
  {
   "cell_type": "code",
   "execution_count": 57,
   "id": "27f53352",
   "metadata": {},
   "outputs": [
    {
     "data": {
      "application/vnd.plotly.v1+json": {
       "config": {
        "plotlyServerURL": "https://plot.ly"
       },
       "data": [
        {
         "hovertemplate": "<b>%{hovertext}</b><br><br>Human=%{x}<br>WER=%{y}<extra></extra>",
         "hovertext": [
          [
           "okay",
           "propane"
          ],
          [
           "sorry yeah the pain has been there this whole time and it's gotten worse ever since it started",
           "si yet the pad has been there this wholl time and it's gotten worse iave ever since it started ocet"
          ],
          [
           "it made it a bit worse but",
           "it made it a big worse by ta"
          ],
          [
           "no",
           "no"
          ],
          [
           "a multivitamin",
           "a a multy biteman"
          ],
          [
           "when did this pain start",
           "when do this pain start"
          ],
          [
           "but",
           "bu"
          ],
          [
           "it's just right  over on the on the left side",
           "cirato over on thy on the left side"
          ],
          [
           "and",
           "hand"
          ],
          [
           "okay",
           "oquery"
          ],
          [
           "yeah so",
           "yes o am"
          ],
          [
           "start",
           "start"
          ],
          [
           "or like get better",
           "for migt get better"
          ],
          [
           "but it's becoming sharper",
           "ah but it's the coming sharper"
          ],
          [
           "Have you been having any kind of thumping or palpitations or feel like your heart has been racing at all?",
           "have you ven having any kind of thumping or popitations or feel like your heart husband racing at all"
          ],
          [
           "Yeah, I just feel it in that one spot on the left side",
           "yet i just feel it in at one spot on the left side"
          ],
          [
           "uhh it does feel like it's beating faster right now. It usually only feels like this when I'm playing sports. ",
           "an it does reel like its beating faster and out usually only feels like this when i'm i plank sports"
          ],
          [
           "can you think of anything that uh",
           "you think of anything that i"
          ],
          [
           "I would say a",
           "would tay it if you"
          ],
          [
           "and",
           "and"
          ],
          [
           "okay and",
           "look and"
          ],
          [
           "okay and where are you a student",
           "cenda where are you a student"
          ],
          [
           "any previous surgeries",
           "any previous surgeries"
          ],
          [
           "a couple times a month okay",
           "ofo fendemon or gat"
          ],
          [
           "it sounds like uh",
           "t found flake ab"
          ],
          [
           "uhm it started last night",
           "and it started last night"
          ],
          [
           "but i have used crystal meth in the past",
           "but i have used a crystal meth of the past"
          ],
          [
           "those issues in my personal life",
           "tose issues in my personal life"
          ],
          [
           "I don't no I've",
           "i no o i"
          ],
          [
           "no I'm kinda just feel it here on the left side",
           "though onconiga's feeling at rat here on the left side"
          ],
          [
           "no",
           "no"
          ],
          [
           "yeah, I guess I'd say I have this frothy sputum",
           "ye i guess i'd say i have this frothy spewdum"
          ],
          [
           "I've tried uh",
           "i'e tried i ad"
          ],
          [
           "have you at all in the past been hospitalized for any reason",
           "have you at all in the pas bing hospitalized for any reason"
          ],
          [
           "ah i would say so yes",
           "ah i would say so yes"
          ],
          [
           "do you have any chronic conditions that you see your family doctor for",
           "and do you have any chronic conditions that you see your family doctor ford"
          ],
          [
           "okay",
           "a"
          ],
          [
           "sorry yeah the pain has been there this whole time and it's gotten worse ever since it started",
           "ah the pain has been there the full time and it's gotten worse ever since i started on"
          ],
          [
           "it made it a bit worse but",
           "made it a awards"
          ],
          [
           "no",
           "no"
          ],
          [
           "a multivitamin",
           "a multi vitamin"
          ],
          [
           "when did this pain start",
           "this pain start"
          ],
          [
           "but",
           "but"
          ],
          [
           "it's just right  over on the on the left side",
           "and so redolent of the left side"
          ],
          [
           "and",
           "and"
          ],
          [
           "okay",
           "a"
          ],
          [
           "yeah so",
           "yes so"
          ],
          [
           "start",
           "start"
          ],
          [
           "or like get better",
           "better"
          ],
          [
           "but it's becoming sharper",
           "but it's the coming sharper"
          ],
          [
           "Have you been having any kind of thumping or palpitations or feel like your heart has been racing at all?",
           "have you been having any kind of thing position or feel like your hearthstone"
          ],
          [
           "Yeah, I just feel it in that one spot on the left side",
           "yeah i just feel that i at once bought on the left side"
          ],
          [
           "uhh it does feel like it's beating faster right now. It usually only feels like this when I'm playing sports. ",
           "it does feel like it's batiste and now usually only feel like this when i'm playing sports"
          ],
          [
           "can you think of anything that uh",
           "think of anything that"
          ],
          [
           "I would say a",
           "i"
          ],
          [
           "and",
           "and"
          ],
          [
           "okay and",
           "and"
          ],
          [
           "okay and where are you a student",
           "and where are you a student"
          ],
          [
           "any previous surgeries",
           "any previous surgery"
          ],
          [
           "a couple times a month okay",
           "some"
          ],
          [
           "it sounds like uh",
           "sounds like a"
          ],
          [
           "uhm it started last night",
           "and it started last night"
          ],
          [
           "but i have used crystal meth in the past",
           "i have used a crystal bath of the past"
          ],
          [
           "those issues in my personal life",
           "in my personal life"
          ],
          [
           "I don't no I've",
           "i don't know"
          ],
          [
           "no I'm kinda just feel it here on the left side",
           "no i congealing rather on the left side"
          ],
          [
           "no",
           "no"
          ],
          [
           "yeah, I guess I'd say I have this frothy sputum",
           "yeah i guess i am said rose but"
          ],
          [
           "I've tried uh",
           "i"
          ],
          [
           "have you at all in the past been hospitalized for any reason",
           "have you at all in the past in contained person"
          ],
          [
           "ah i would say so yes",
           "i would say so yes"
          ],
          [
           "do you have any chronic conditions that you see your family doctor for",
           "do you have any product conditions that you see your family doctor for"
          ],
          [
           "fairly balanced overall, I might",
           "fairly balanced over all i might at"
          ],
          [
           "OK so but the pain just started half an hour ago?",
           "oces but the pain to started hop in anbor"
          ],
          [
           "tell me",
           "ta a"
          ],
          [
           "Sure thirty nine, I'm a male.",
           "sharp am thirty nine ah i'm a male"
          ],
          [
           "No hospitalizations.",
           "no osplizations"
          ],
          [
           "my parents",
           "my parent"
          ],
          [
           "I'd say it's worse when I when I walk more than 50 meters. That's kind of the main like that's kind of the main trigger, just exertion. OK, and were you able to walk normally more than 50 meters",
           "u i say it's worse when i when i walk more than fifty meters am lots connament the laskana the main tricker just exertion and were you able to walk con normally more than fifty meters"
          ],
          [
           "I'd say it's like a seven or eight. It's pretty bad. OK, and with the pain, do you have any other associated symptoms?",
           "i'd say it's like a seven or eight pretty bad o k an and with the pain do you have any other aassociated symptoms"
          ],
          [
           "No nausea or vomiting, but",
           "i'm no noger vomiting but"
          ],
          [
           "What brings you here today? I'm just having this really sharp pain in my chest and I'm scared. I think I'm having a heart attack.",
           "what brings you here to dit ift having this rilly sharp bain in my chest and i'm scared i think i'm having a heart attack ah well om ah you i must be really scarry"
          ],
          [
           "It feels dull. I feel like there's",
           "it feels doll i feel like thirst"
          ],
          [
           "For the past 10 to 15 years. OK, and do you smoke cannabis?",
           "for the past ten to fifteen years loka and doyou smoke like cadabas"
          ],
          [
           "Rosuvastatin and",
           "i resue i satin and"
          ],
          [
           "no",
           "no"
          ],
          [
           "come on about like gradually through time or suddenly just happened?",
           "hom onaboat like gradually through time wor a suddenly jus happen"
          ],
          [
           "OK, and where is this pain located? ",
           "o ka and a were is this pain located"
          ],
          [
           "Um not laying down helps.",
           "i'm not laying down helps"
          ],
          [
           "no um",
           "no m"
          ],
          [
           "No. OK, have you had any nausea or vomiting? ",
           "now o cat have you had any nodger bomiting"
          ],
          [
           "OK, and where is the pain exactly?",
           "and wy where is the pain exacle"
          ],
          [
           "Maybe taking a deep breath. Yeah. OK. And when the pain started, could you",
           "maybe taking a deep breath younger and and what the pain started culd ye an"
          ],
          [
           "Uh I'm an accountant.",
           "ah i'm a acounten's"
          ],
          [
           "What brings you in here today? Um yeah, I've just been feeling breathless and it's getting worse. So I wanted to check it out. OK, and when did you first start feeling breathless? About two months ago.",
           "what brings you in here to thet uh you have just been feeling ah breathless and its getting worse so i wanted to check it out you can and when did you a first start peeling breathwas about two months ago"
          ],
          [
           "I do take umm",
           "i do think yam"
          ],
          [
           "when you were doing that?",
           "when you redurin that"
          ],
          [
           "About the same, OK, and has it gotten more frequent",
           "the same moqe and has it gotten more frequent"
          ],
          [
           "yeah, I'm I'm just feeling this",
           "y i jus feeling this and"
          ],
          [
           "OK",
           "poge"
          ],
          [
           "been more stressed out in general",
           "been more stretched out in general"
          ],
          [
           "and within your family, has anyone passed away from",
           "and within your family has a any one passed away from"
          ],
          [
           "About a half a pack to a pack a day.",
           "better half a pack to your packe day"
          ],
          [
           "How would you describe it?",
           "hardy describe it"
          ],
          [
           "Excellent. Um alright, and could you tell me a little bit about your living situation currently?",
           "excellence am what fans and could you tom be aa a bit about your ouliving situation currently"
          ],
          [
           "OK",
           "pa"
          ],
          [
           "medications for",
           "metications for"
          ],
          [
           "OK",
           "poe"
          ],
          [
           "uh, yep, that's about it. OK, and uh how do you support yourself financially?",
           "so n yo at thea edge o care an and a how do you support yourself a financially"
          ],
          [
           "No. OK, how about any abdominal pain?",
           "and now ca ahow about any ebdominable pain"
          ],
          [
           "and how often do you use crystal meth?",
           "and how often dees cristelmont"
          ],
          [
           "fairly balanced overall, I might",
           "fairly balanced over all i might"
          ],
          [
           "OK so but the pain just started half an hour ago?",
           "but the taste talking"
          ],
          [
           "tell me",
           "tell"
          ],
          [
           "Sure thirty nine, I'm a male.",
           "sure thirty nine a a male"
          ],
          [
           "No hospitalizations.",
           "no aspiration"
          ],
          [
           "my parents",
           "my pen"
          ],
          [
           "I'd say it's worse when I when I walk more than 50 meters. That's kind of the main like that's kind of the main trigger, just exertion. OK, and were you able to walk normally more than 50 meters",
           "oh i say worth when i when i walk more than fifty meters that's canaanites come man trituration and were you able to walk on normally more than fifty meters"
          ],
          [
           "I'd say it's like a seven or eight. It's pretty bad. OK, and with the pain, do you have any other associated symptoms?",
           "i say i like a sudden or a pretty bad okay in it with the pain to have any other associated symptoms"
          ],
          [
           "No nausea or vomiting, but",
           "no nauseating but"
          ],
          [
           "What brings you here today? I'm just having this really sharp pain in my chest and I'm scared. I think I'm having a heart attack.",
           "in outdoing the really for being in my just and scared i think i'm having a heart to doubt alone feretory"
          ],
          [
           "It feels dull. I feel like there's",
           "i do feel like this"
          ],
          [
           "For the past 10 to 15 years. OK, and do you smoke cannabis?",
           "from a past ten to fifteen years oarsman is"
          ],
          [
           "Rosuvastatin and",
           "resumed and"
          ],
          [
           "no",
           "no"
          ],
          [
           "come on about like gradually through time or suddenly just happened?",
           "unable gradually through time were severely just to"
          ],
          [
           "OK, and where is this pain located? ",
           "okay and i where is this pain located"
          ],
          [
           "Um not laying down helps.",
           "laying down help"
          ],
          [
           "no um",
           "no"
          ],
          [
           "No. OK, have you had any nausea or vomiting? ",
           "now okay i botanising"
          ],
          [
           "OK, and where is the pain exactly?",
           "well where is the king to"
          ],
          [
           "Maybe taking a deep breath. Yeah. OK. And when the pain started, could you",
           "i may be taking a deep breath he and welfare could"
          ],
          [
           "Uh I'm an accountant.",
           "ah i nicotine"
          ],
          [
           "What brings you in here today? Um yeah, I've just been feeling breathless and it's getting worse. So I wanted to check it out. OK, and when did you first start feeling breathless? About two months ago.",
           "he brings to me just then feeling breathless and is getting worse so i wanted to check it out grierson ruthless over two months ago"
          ],
          [
           "I do take umm",
           "i do think"
          ],
          [
           "when you were doing that?",
           "when you're doing that"
          ],
          [
           "About the same, OK, and has it gotten more frequent",
           "the same way and as it got more frequent"
          ],
          [
           "yeah, I'm I'm just feeling this",
           "yeah i'm just feeling this"
          ],
          [
           "OK",
           "okay"
          ],
          [
           "been more stressed out in general",
           "more stress out in general"
          ],
          [
           "and within your family, has anyone passed away from",
           "and within your family has any one a term"
          ],
          [
           "About a half a pack to a pack a day.",
           "well half a pack to parade"
          ],
          [
           "How would you describe it?",
           "how did describe it"
          ],
          [
           "Excellent. Um alright, and could you tell me a little bit about your living situation currently?",
           "excellent but at and could you tell it about your living situation currently"
          ],
          [
           "OK",
           "right"
          ],
          [
           "medications for",
           "meditations for"
          ],
          [
           "OK",
           "okay"
          ],
          [
           "uh, yep, that's about it. OK, and uh how do you support yourself financially?",
           "he attitude how do you support yourself financially"
          ],
          [
           "No. OK, how about any abdominal pain?",
           "no okay i how about any abdominal pain"
          ],
          [
           "and how often do you use crystal meth?",
           "and how often do these persons"
          ]
         ],
         "legendgroup": "",
         "marker": {
          "color": "#636efa",
          "symbol": "circle"
         },
         "mode": "markers",
         "name": "",
         "orientation": "v",
         "showlegend": false,
         "type": "scatter",
         "x": [
          2,
          2,
          1,
          0,
          2,
          1,
          1,
          2,
          1,
          1,
          2,
          0,
          2,
          1,
          2,
          1,
          1,
          1,
          2,
          0,
          1,
          1,
          0,
          2,
          2,
          0,
          0,
          2,
          2,
          2,
          0,
          1,
          2,
          1,
          0,
          0,
          2,
          0,
          2,
          0,
          0,
          1,
          0,
          2,
          0,
          1,
          0,
          0,
          1,
          1,
          2,
          2,
          2,
          1,
          2,
          0,
          0,
          0,
          0,
          2,
          0,
          0,
          2,
          0,
          1,
          2,
          0,
          2,
          1,
          2,
          0,
          1,
          1,
          2,
          2,
          2,
          1,
          1,
          2,
          1,
          2,
          2,
          2,
          2,
          2,
          0,
          2,
          1,
          1,
          1,
          2,
          2,
          2,
          1,
          2,
          2,
          2,
          2,
          1,
          2,
          1,
          0,
          2,
          1,
          2,
          2,
          1,
          2,
          2,
          2,
          2,
          0,
          2,
          1,
          1,
          2,
          2,
          2,
          2,
          1,
          2,
          2,
          2,
          2,
          0,
          2,
          0,
          2,
          0,
          2,
          2,
          2,
          2,
          2,
          2,
          1,
          2,
          0,
          0,
          1,
          2,
          2,
          2,
          1,
          2,
          1,
          0,
          2,
          0,
          2
         ],
         "xaxis": "x",
         "y": [
          1,
          0.3333333333333333,
          0.42857142857142855,
          0,
          1.5,
          0.2,
          1,
          0.4,
          1,
          1,
          1.5,
          0,
          0.5,
          0.75,
          0.3,
          0.23076923076923078,
          0.5,
          0.2857142857142857,
          1.25,
          0,
          0.5,
          0.2857142857142857,
          0,
          1,
          1,
          0.2,
          0.2222222222222222,
          0.16666666666666666,
          1,
          0.5454545454545454,
          0,
          0.5,
          1,
          0.16666666666666666,
          0,
          0.15384615384615385,
          1,
          0.3333333333333333,
          0.5714285714285714,
          0,
          1,
          0.4,
          0,
          0.7,
          0,
          1,
          0.5,
          0,
          0.75,
          0.5,
          0.5,
          0.5384615384615384,
          0.45,
          0.42857142857142855,
          1,
          0,
          0.5,
          0.14285714285714285,
          0.3333333333333333,
          1,
          0.5,
          0.2,
          0.4444444444444444,
          0.3333333333333333,
          0.75,
          0.5454545454545454,
          0,
          0.9,
          1,
          0.4166666666666667,
          0.16666666666666666,
          0.07692307692307693,
          0.8,
          0.6363636363636364,
          1,
          1,
          1,
          0.5,
          0.48717948717948717,
          0.43478260869565216,
          0.8,
          0.84,
          0.5714285714285714,
          0.6923076923076923,
          2,
          0,
          0.6363636363636364,
          0.7142857142857143,
          0.4,
          0.5,
          0.6666666666666666,
          0.42857142857142855,
          0.7142857142857143,
          1,
          0.5135135135135135,
          0.75,
          0.6,
          0.3,
          0.8333333333333334,
          1,
          0.16666666666666666,
          0.4444444444444444,
          0.6,
          0.8,
          0.625,
          1,
          0.5,
          1,
          0.8571428571428571,
          0.8571428571428571,
          0.625,
          0.6,
          0.8181818181818182,
          0.5,
          0.6666666666666666,
          1,
          0.5,
          0.6153846153846154,
          0.5652173913043478,
          0.8,
          0.8,
          0.7142857142857143,
          0.8461538461538461,
          0.5,
          0,
          0.6363636363636364,
          0.42857142857142855,
          0.6,
          0.5,
          1,
          0.5714285714285714,
          0.8571428571428571,
          1,
          0.6756756756756757,
          0.75,
          0.6,
          0.5,
          0.5,
          1,
          0.3333333333333333,
          0.5555555555555556,
          0.6,
          0.8,
          0.5,
          1,
          0.5,
          1,
          0.6428571428571429,
          0.5714285714285714,
          0.5
         ],
         "yaxis": "y"
        },
        {
         "hovertemplate": "<b>OLS trendline</b><br>WER = 0.226674 * Human + 0.304501<br>R<sup>2</sup>=0.286196<br><br>Human=%{x}<br>WER=%{y} <b>(trend)</b><extra></extra>",
         "legendgroup": "",
         "marker": {
          "color": "#636efa",
          "symbol": "circle"
         },
         "mode": "lines",
         "name": "",
         "showlegend": false,
         "type": "scatter",
         "x": [
          0,
          0,
          0,
          0,
          0,
          0,
          0,
          0,
          0,
          0,
          0,
          0,
          0,
          0,
          0,
          0,
          0,
          0,
          0,
          0,
          0,
          0,
          0,
          0,
          0,
          0,
          0,
          0,
          0,
          0,
          0,
          0,
          0,
          0,
          0,
          1,
          1,
          1,
          1,
          1,
          1,
          1,
          1,
          1,
          1,
          1,
          1,
          1,
          1,
          1,
          1,
          1,
          1,
          1,
          1,
          1,
          1,
          1,
          1,
          1,
          1,
          1,
          1,
          1,
          1,
          1,
          1,
          1,
          1,
          1,
          1,
          1,
          1,
          1,
          1,
          2,
          2,
          2,
          2,
          2,
          2,
          2,
          2,
          2,
          2,
          2,
          2,
          2,
          2,
          2,
          2,
          2,
          2,
          2,
          2,
          2,
          2,
          2,
          2,
          2,
          2,
          2,
          2,
          2,
          2,
          2,
          2,
          2,
          2,
          2,
          2,
          2,
          2,
          2,
          2,
          2,
          2,
          2,
          2,
          2,
          2,
          2,
          2,
          2,
          2,
          2,
          2,
          2,
          2,
          2,
          2,
          2,
          2,
          2,
          2,
          2,
          2,
          2,
          2,
          2,
          2,
          2,
          2,
          2,
          2,
          2,
          2,
          2,
          2,
          2
         ],
         "xaxis": "x",
         "y": [
          0.30450116343696715,
          0.30450116343696715,
          0.30450116343696715,
          0.30450116343696715,
          0.30450116343696715,
          0.30450116343696715,
          0.30450116343696715,
          0.30450116343696715,
          0.30450116343696715,
          0.30450116343696715,
          0.30450116343696715,
          0.30450116343696715,
          0.30450116343696715,
          0.30450116343696715,
          0.30450116343696715,
          0.30450116343696715,
          0.30450116343696715,
          0.30450116343696715,
          0.30450116343696715,
          0.30450116343696715,
          0.30450116343696715,
          0.30450116343696715,
          0.30450116343696715,
          0.30450116343696715,
          0.30450116343696715,
          0.30450116343696715,
          0.30450116343696715,
          0.30450116343696715,
          0.30450116343696715,
          0.30450116343696715,
          0.30450116343696715,
          0.30450116343696715,
          0.30450116343696715,
          0.30450116343696715,
          0.30450116343696715,
          0.531174763634933,
          0.531174763634933,
          0.531174763634933,
          0.531174763634933,
          0.531174763634933,
          0.531174763634933,
          0.531174763634933,
          0.531174763634933,
          0.531174763634933,
          0.531174763634933,
          0.531174763634933,
          0.531174763634933,
          0.531174763634933,
          0.531174763634933,
          0.531174763634933,
          0.531174763634933,
          0.531174763634933,
          0.531174763634933,
          0.531174763634933,
          0.531174763634933,
          0.531174763634933,
          0.531174763634933,
          0.531174763634933,
          0.531174763634933,
          0.531174763634933,
          0.531174763634933,
          0.531174763634933,
          0.531174763634933,
          0.531174763634933,
          0.531174763634933,
          0.531174763634933,
          0.531174763634933,
          0.531174763634933,
          0.531174763634933,
          0.531174763634933,
          0.531174763634933,
          0.531174763634933,
          0.531174763634933,
          0.531174763634933,
          0.531174763634933,
          0.7578483638328988,
          0.7578483638328988,
          0.7578483638328988,
          0.7578483638328988,
          0.7578483638328988,
          0.7578483638328988,
          0.7578483638328988,
          0.7578483638328988,
          0.7578483638328988,
          0.7578483638328988,
          0.7578483638328988,
          0.7578483638328988,
          0.7578483638328988,
          0.7578483638328988,
          0.7578483638328988,
          0.7578483638328988,
          0.7578483638328988,
          0.7578483638328988,
          0.7578483638328988,
          0.7578483638328988,
          0.7578483638328988,
          0.7578483638328988,
          0.7578483638328988,
          0.7578483638328988,
          0.7578483638328988,
          0.7578483638328988,
          0.7578483638328988,
          0.7578483638328988,
          0.7578483638328988,
          0.7578483638328988,
          0.7578483638328988,
          0.7578483638328988,
          0.7578483638328988,
          0.7578483638328988,
          0.7578483638328988,
          0.7578483638328988,
          0.7578483638328988,
          0.7578483638328988,
          0.7578483638328988,
          0.7578483638328988,
          0.7578483638328988,
          0.7578483638328988,
          0.7578483638328988,
          0.7578483638328988,
          0.7578483638328988,
          0.7578483638328988,
          0.7578483638328988,
          0.7578483638328988,
          0.7578483638328988,
          0.7578483638328988,
          0.7578483638328988,
          0.7578483638328988,
          0.7578483638328988,
          0.7578483638328988,
          0.7578483638328988,
          0.7578483638328988,
          0.7578483638328988,
          0.7578483638328988,
          0.7578483638328988,
          0.7578483638328988,
          0.7578483638328988,
          0.7578483638328988,
          0.7578483638328988,
          0.7578483638328988,
          0.7578483638328988,
          0.7578483638328988,
          0.7578483638328988,
          0.7578483638328988,
          0.7578483638328988,
          0.7578483638328988,
          0.7578483638328988,
          0.7578483638328988,
          0.7578483638328988,
          0.7578483638328988,
          0.7578483638328988
         ],
         "yaxis": "y"
        }
       ],
       "layout": {
        "legend": {
         "tracegroupgap": 0
        },
        "template": {
         "data": {
          "bar": [
           {
            "error_x": {
             "color": "#2a3f5f"
            },
            "error_y": {
             "color": "#2a3f5f"
            },
            "marker": {
             "line": {
              "color": "#E5ECF6",
              "width": 0.5
             },
             "pattern": {
              "fillmode": "overlay",
              "size": 10,
              "solidity": 0.2
             }
            },
            "type": "bar"
           }
          ],
          "barpolar": [
           {
            "marker": {
             "line": {
              "color": "#E5ECF6",
              "width": 0.5
             },
             "pattern": {
              "fillmode": "overlay",
              "size": 10,
              "solidity": 0.2
             }
            },
            "type": "barpolar"
           }
          ],
          "carpet": [
           {
            "aaxis": {
             "endlinecolor": "#2a3f5f",
             "gridcolor": "white",
             "linecolor": "white",
             "minorgridcolor": "white",
             "startlinecolor": "#2a3f5f"
            },
            "baxis": {
             "endlinecolor": "#2a3f5f",
             "gridcolor": "white",
             "linecolor": "white",
             "minorgridcolor": "white",
             "startlinecolor": "#2a3f5f"
            },
            "type": "carpet"
           }
          ],
          "choropleth": [
           {
            "colorbar": {
             "outlinewidth": 0,
             "ticks": ""
            },
            "type": "choropleth"
           }
          ],
          "contour": [
           {
            "colorbar": {
             "outlinewidth": 0,
             "ticks": ""
            },
            "colorscale": [
             [
              0,
              "#0d0887"
             ],
             [
              0.1111111111111111,
              "#46039f"
             ],
             [
              0.2222222222222222,
              "#7201a8"
             ],
             [
              0.3333333333333333,
              "#9c179e"
             ],
             [
              0.4444444444444444,
              "#bd3786"
             ],
             [
              0.5555555555555556,
              "#d8576b"
             ],
             [
              0.6666666666666666,
              "#ed7953"
             ],
             [
              0.7777777777777778,
              "#fb9f3a"
             ],
             [
              0.8888888888888888,
              "#fdca26"
             ],
             [
              1,
              "#f0f921"
             ]
            ],
            "type": "contour"
           }
          ],
          "contourcarpet": [
           {
            "colorbar": {
             "outlinewidth": 0,
             "ticks": ""
            },
            "type": "contourcarpet"
           }
          ],
          "heatmap": [
           {
            "colorbar": {
             "outlinewidth": 0,
             "ticks": ""
            },
            "colorscale": [
             [
              0,
              "#0d0887"
             ],
             [
              0.1111111111111111,
              "#46039f"
             ],
             [
              0.2222222222222222,
              "#7201a8"
             ],
             [
              0.3333333333333333,
              "#9c179e"
             ],
             [
              0.4444444444444444,
              "#bd3786"
             ],
             [
              0.5555555555555556,
              "#d8576b"
             ],
             [
              0.6666666666666666,
              "#ed7953"
             ],
             [
              0.7777777777777778,
              "#fb9f3a"
             ],
             [
              0.8888888888888888,
              "#fdca26"
             ],
             [
              1,
              "#f0f921"
             ]
            ],
            "type": "heatmap"
           }
          ],
          "heatmapgl": [
           {
            "colorbar": {
             "outlinewidth": 0,
             "ticks": ""
            },
            "colorscale": [
             [
              0,
              "#0d0887"
             ],
             [
              0.1111111111111111,
              "#46039f"
             ],
             [
              0.2222222222222222,
              "#7201a8"
             ],
             [
              0.3333333333333333,
              "#9c179e"
             ],
             [
              0.4444444444444444,
              "#bd3786"
             ],
             [
              0.5555555555555556,
              "#d8576b"
             ],
             [
              0.6666666666666666,
              "#ed7953"
             ],
             [
              0.7777777777777778,
              "#fb9f3a"
             ],
             [
              0.8888888888888888,
              "#fdca26"
             ],
             [
              1,
              "#f0f921"
             ]
            ],
            "type": "heatmapgl"
           }
          ],
          "histogram": [
           {
            "marker": {
             "pattern": {
              "fillmode": "overlay",
              "size": 10,
              "solidity": 0.2
             }
            },
            "type": "histogram"
           }
          ],
          "histogram2d": [
           {
            "colorbar": {
             "outlinewidth": 0,
             "ticks": ""
            },
            "colorscale": [
             [
              0,
              "#0d0887"
             ],
             [
              0.1111111111111111,
              "#46039f"
             ],
             [
              0.2222222222222222,
              "#7201a8"
             ],
             [
              0.3333333333333333,
              "#9c179e"
             ],
             [
              0.4444444444444444,
              "#bd3786"
             ],
             [
              0.5555555555555556,
              "#d8576b"
             ],
             [
              0.6666666666666666,
              "#ed7953"
             ],
             [
              0.7777777777777778,
              "#fb9f3a"
             ],
             [
              0.8888888888888888,
              "#fdca26"
             ],
             [
              1,
              "#f0f921"
             ]
            ],
            "type": "histogram2d"
           }
          ],
          "histogram2dcontour": [
           {
            "colorbar": {
             "outlinewidth": 0,
             "ticks": ""
            },
            "colorscale": [
             [
              0,
              "#0d0887"
             ],
             [
              0.1111111111111111,
              "#46039f"
             ],
             [
              0.2222222222222222,
              "#7201a8"
             ],
             [
              0.3333333333333333,
              "#9c179e"
             ],
             [
              0.4444444444444444,
              "#bd3786"
             ],
             [
              0.5555555555555556,
              "#d8576b"
             ],
             [
              0.6666666666666666,
              "#ed7953"
             ],
             [
              0.7777777777777778,
              "#fb9f3a"
             ],
             [
              0.8888888888888888,
              "#fdca26"
             ],
             [
              1,
              "#f0f921"
             ]
            ],
            "type": "histogram2dcontour"
           }
          ],
          "mesh3d": [
           {
            "colorbar": {
             "outlinewidth": 0,
             "ticks": ""
            },
            "type": "mesh3d"
           }
          ],
          "parcoords": [
           {
            "line": {
             "colorbar": {
              "outlinewidth": 0,
              "ticks": ""
             }
            },
            "type": "parcoords"
           }
          ],
          "pie": [
           {
            "automargin": true,
            "type": "pie"
           }
          ],
          "scatter": [
           {
            "fillpattern": {
             "fillmode": "overlay",
             "size": 10,
             "solidity": 0.2
            },
            "type": "scatter"
           }
          ],
          "scatter3d": [
           {
            "line": {
             "colorbar": {
              "outlinewidth": 0,
              "ticks": ""
             }
            },
            "marker": {
             "colorbar": {
              "outlinewidth": 0,
              "ticks": ""
             }
            },
            "type": "scatter3d"
           }
          ],
          "scattercarpet": [
           {
            "marker": {
             "colorbar": {
              "outlinewidth": 0,
              "ticks": ""
             }
            },
            "type": "scattercarpet"
           }
          ],
          "scattergeo": [
           {
            "marker": {
             "colorbar": {
              "outlinewidth": 0,
              "ticks": ""
             }
            },
            "type": "scattergeo"
           }
          ],
          "scattergl": [
           {
            "marker": {
             "colorbar": {
              "outlinewidth": 0,
              "ticks": ""
             }
            },
            "type": "scattergl"
           }
          ],
          "scattermapbox": [
           {
            "marker": {
             "colorbar": {
              "outlinewidth": 0,
              "ticks": ""
             }
            },
            "type": "scattermapbox"
           }
          ],
          "scatterpolar": [
           {
            "marker": {
             "colorbar": {
              "outlinewidth": 0,
              "ticks": ""
             }
            },
            "type": "scatterpolar"
           }
          ],
          "scatterpolargl": [
           {
            "marker": {
             "colorbar": {
              "outlinewidth": 0,
              "ticks": ""
             }
            },
            "type": "scatterpolargl"
           }
          ],
          "scatterternary": [
           {
            "marker": {
             "colorbar": {
              "outlinewidth": 0,
              "ticks": ""
             }
            },
            "type": "scatterternary"
           }
          ],
          "surface": [
           {
            "colorbar": {
             "outlinewidth": 0,
             "ticks": ""
            },
            "colorscale": [
             [
              0,
              "#0d0887"
             ],
             [
              0.1111111111111111,
              "#46039f"
             ],
             [
              0.2222222222222222,
              "#7201a8"
             ],
             [
              0.3333333333333333,
              "#9c179e"
             ],
             [
              0.4444444444444444,
              "#bd3786"
             ],
             [
              0.5555555555555556,
              "#d8576b"
             ],
             [
              0.6666666666666666,
              "#ed7953"
             ],
             [
              0.7777777777777778,
              "#fb9f3a"
             ],
             [
              0.8888888888888888,
              "#fdca26"
             ],
             [
              1,
              "#f0f921"
             ]
            ],
            "type": "surface"
           }
          ],
          "table": [
           {
            "cells": {
             "fill": {
              "color": "#EBF0F8"
             },
             "line": {
              "color": "white"
             }
            },
            "header": {
             "fill": {
              "color": "#C8D4E3"
             },
             "line": {
              "color": "white"
             }
            },
            "type": "table"
           }
          ]
         },
         "layout": {
          "annotationdefaults": {
           "arrowcolor": "#2a3f5f",
           "arrowhead": 0,
           "arrowwidth": 1
          },
          "autotypenumbers": "strict",
          "coloraxis": {
           "colorbar": {
            "outlinewidth": 0,
            "ticks": ""
           }
          },
          "colorscale": {
           "diverging": [
            [
             0,
             "#8e0152"
            ],
            [
             0.1,
             "#c51b7d"
            ],
            [
             0.2,
             "#de77ae"
            ],
            [
             0.3,
             "#f1b6da"
            ],
            [
             0.4,
             "#fde0ef"
            ],
            [
             0.5,
             "#f7f7f7"
            ],
            [
             0.6,
             "#e6f5d0"
            ],
            [
             0.7,
             "#b8e186"
            ],
            [
             0.8,
             "#7fbc41"
            ],
            [
             0.9,
             "#4d9221"
            ],
            [
             1,
             "#276419"
            ]
           ],
           "sequential": [
            [
             0,
             "#0d0887"
            ],
            [
             0.1111111111111111,
             "#46039f"
            ],
            [
             0.2222222222222222,
             "#7201a8"
            ],
            [
             0.3333333333333333,
             "#9c179e"
            ],
            [
             0.4444444444444444,
             "#bd3786"
            ],
            [
             0.5555555555555556,
             "#d8576b"
            ],
            [
             0.6666666666666666,
             "#ed7953"
            ],
            [
             0.7777777777777778,
             "#fb9f3a"
            ],
            [
             0.8888888888888888,
             "#fdca26"
            ],
            [
             1,
             "#f0f921"
            ]
           ],
           "sequentialminus": [
            [
             0,
             "#0d0887"
            ],
            [
             0.1111111111111111,
             "#46039f"
            ],
            [
             0.2222222222222222,
             "#7201a8"
            ],
            [
             0.3333333333333333,
             "#9c179e"
            ],
            [
             0.4444444444444444,
             "#bd3786"
            ],
            [
             0.5555555555555556,
             "#d8576b"
            ],
            [
             0.6666666666666666,
             "#ed7953"
            ],
            [
             0.7777777777777778,
             "#fb9f3a"
            ],
            [
             0.8888888888888888,
             "#fdca26"
            ],
            [
             1,
             "#f0f921"
            ]
           ]
          },
          "colorway": [
           "#636efa",
           "#EF553B",
           "#00cc96",
           "#ab63fa",
           "#FFA15A",
           "#19d3f3",
           "#FF6692",
           "#B6E880",
           "#FF97FF",
           "#FECB52"
          ],
          "font": {
           "color": "#2a3f5f"
          },
          "geo": {
           "bgcolor": "white",
           "lakecolor": "white",
           "landcolor": "#E5ECF6",
           "showlakes": true,
           "showland": true,
           "subunitcolor": "white"
          },
          "hoverlabel": {
           "align": "left"
          },
          "hovermode": "closest",
          "mapbox": {
           "style": "light"
          },
          "paper_bgcolor": "white",
          "plot_bgcolor": "#E5ECF6",
          "polar": {
           "angularaxis": {
            "gridcolor": "white",
            "linecolor": "white",
            "ticks": ""
           },
           "bgcolor": "#E5ECF6",
           "radialaxis": {
            "gridcolor": "white",
            "linecolor": "white",
            "ticks": ""
           }
          },
          "scene": {
           "xaxis": {
            "backgroundcolor": "#E5ECF6",
            "gridcolor": "white",
            "gridwidth": 2,
            "linecolor": "white",
            "showbackground": true,
            "ticks": "",
            "zerolinecolor": "white"
           },
           "yaxis": {
            "backgroundcolor": "#E5ECF6",
            "gridcolor": "white",
            "gridwidth": 2,
            "linecolor": "white",
            "showbackground": true,
            "ticks": "",
            "zerolinecolor": "white"
           },
           "zaxis": {
            "backgroundcolor": "#E5ECF6",
            "gridcolor": "white",
            "gridwidth": 2,
            "linecolor": "white",
            "showbackground": true,
            "ticks": "",
            "zerolinecolor": "white"
           }
          },
          "shapedefaults": {
           "line": {
            "color": "#2a3f5f"
           }
          },
          "ternary": {
           "aaxis": {
            "gridcolor": "white",
            "linecolor": "white",
            "ticks": ""
           },
           "baxis": {
            "gridcolor": "white",
            "linecolor": "white",
            "ticks": ""
           },
           "bgcolor": "#E5ECF6",
           "caxis": {
            "gridcolor": "white",
            "linecolor": "white",
            "ticks": ""
           }
          },
          "title": {
           "x": 0.05
          },
          "xaxis": {
           "automargin": true,
           "gridcolor": "white",
           "linecolor": "white",
           "ticks": "",
           "title": {
            "standoff": 15
           },
           "zerolinecolor": "white",
           "zerolinewidth": 2
          },
          "yaxis": {
           "automargin": true,
           "gridcolor": "white",
           "linecolor": "white",
           "ticks": "",
           "title": {
            "standoff": 15
           },
           "zerolinecolor": "white",
           "zerolinewidth": 2
          }
         }
        },
        "title": {
         "text": "Human Rating vs DisRob Rating"
        },
        "xaxis": {
         "anchor": "y",
         "domain": [
          0,
          1
         ],
         "title": {
          "text": "Human"
         }
        },
        "yaxis": {
         "anchor": "x",
         "domain": [
          0,
          1
         ],
         "title": {
          "text": "WER"
         }
        }
       }
      }
     },
     "metadata": {},
     "output_type": "display_data"
    }
   ],
   "source": [
    "fig = px.scatter(\n",
    "    measures_df, x=\"Human\", y=\"WER\", \n",
    "    trendline=\"ols\",\n",
    "    labels={'x':'Human Rating', 'y':'DisRob Rating'},\n",
    "    title='Human Rating vs DisRob Rating',\n",
    "    hover_name=measures_df['pairs']\n",
    ")\n",
    "fig.show()"
   ]
  },
  {
   "cell_type": "code",
   "execution_count": 56,
   "id": "d62e7c14",
   "metadata": {},
   "outputs": [
    {
     "data": {
      "application/vnd.plotly.v1+json": {
       "config": {
        "plotlyServerURL": "https://plot.ly"
       },
       "data": [
        {
         "hovertemplate": "<b>%{hovertext}</b><br><br>Human=%{x}<br>DisRob=%{y}<extra></extra>",
         "hovertext": [
          [
           "okay",
           "propane"
          ],
          [
           "sorry yeah the pain has been there this whole time and it's gotten worse ever since it started",
           "si yet the pad has been there this wholl time and it's gotten worse iave ever since it started ocet"
          ],
          [
           "it made it a bit worse but",
           "it made it a big worse by ta"
          ],
          [
           "no",
           "no"
          ],
          [
           "a multivitamin",
           "a a multy biteman"
          ],
          [
           "when did this pain start",
           "when do this pain start"
          ],
          [
           "but",
           "bu"
          ],
          [
           "it's just right  over on the on the left side",
           "cirato over on thy on the left side"
          ],
          [
           "and",
           "hand"
          ],
          [
           "okay",
           "oquery"
          ],
          [
           "yeah so",
           "yes o am"
          ],
          [
           "start",
           "start"
          ],
          [
           "or like get better",
           "for migt get better"
          ],
          [
           "but it's becoming sharper",
           "ah but it's the coming sharper"
          ],
          [
           "Have you been having any kind of thumping or palpitations or feel like your heart has been racing at all?",
           "have you ven having any kind of thumping or popitations or feel like your heart husband racing at all"
          ],
          [
           "Yeah, I just feel it in that one spot on the left side",
           "yet i just feel it in at one spot on the left side"
          ],
          [
           "uhh it does feel like it's beating faster right now. It usually only feels like this when I'm playing sports. ",
           "an it does reel like its beating faster and out usually only feels like this when i'm i plank sports"
          ],
          [
           "can you think of anything that uh",
           "you think of anything that i"
          ],
          [
           "I would say a",
           "would tay it if you"
          ],
          [
           "and",
           "and"
          ],
          [
           "okay and",
           "look and"
          ],
          [
           "okay and where are you a student",
           "cenda where are you a student"
          ],
          [
           "any previous surgeries",
           "any previous surgeries"
          ],
          [
           "a couple times a month okay",
           "ofo fendemon or gat"
          ],
          [
           "it sounds like uh",
           "t found flake ab"
          ],
          [
           "uhm it started last night",
           "and it started last night"
          ],
          [
           "but i have used crystal meth in the past",
           "but i have used a crystal meth of the past"
          ],
          [
           "those issues in my personal life",
           "tose issues in my personal life"
          ],
          [
           "I don't no I've",
           "i no o i"
          ],
          [
           "no I'm kinda just feel it here on the left side",
           "though onconiga's feeling at rat here on the left side"
          ],
          [
           "no",
           "no"
          ],
          [
           "yeah, I guess I'd say I have this frothy sputum",
           "ye i guess i'd say i have this frothy spewdum"
          ],
          [
           "I've tried uh",
           "i'e tried i ad"
          ],
          [
           "have you at all in the past been hospitalized for any reason",
           "have you at all in the pas bing hospitalized for any reason"
          ],
          [
           "ah i would say so yes",
           "ah i would say so yes"
          ],
          [
           "do you have any chronic conditions that you see your family doctor for",
           "and do you have any chronic conditions that you see your family doctor ford"
          ],
          [
           "okay",
           "a"
          ],
          [
           "sorry yeah the pain has been there this whole time and it's gotten worse ever since it started",
           "ah the pain has been there the full time and it's gotten worse ever since i started on"
          ],
          [
           "it made it a bit worse but",
           "made it a awards"
          ],
          [
           "no",
           "no"
          ],
          [
           "a multivitamin",
           "a multi vitamin"
          ],
          [
           "when did this pain start",
           "this pain start"
          ],
          [
           "but",
           "but"
          ],
          [
           "it's just right  over on the on the left side",
           "and so redolent of the left side"
          ],
          [
           "and",
           "and"
          ],
          [
           "okay",
           "a"
          ],
          [
           "yeah so",
           "yes so"
          ],
          [
           "start",
           "start"
          ],
          [
           "or like get better",
           "better"
          ],
          [
           "but it's becoming sharper",
           "but it's the coming sharper"
          ],
          [
           "Have you been having any kind of thumping or palpitations or feel like your heart has been racing at all?",
           "have you been having any kind of thing position or feel like your hearthstone"
          ],
          [
           "Yeah, I just feel it in that one spot on the left side",
           "yeah i just feel that i at once bought on the left side"
          ],
          [
           "uhh it does feel like it's beating faster right now. It usually only feels like this when I'm playing sports. ",
           "it does feel like it's batiste and now usually only feel like this when i'm playing sports"
          ],
          [
           "can you think of anything that uh",
           "think of anything that"
          ],
          [
           "I would say a",
           "i"
          ],
          [
           "and",
           "and"
          ],
          [
           "okay and",
           "and"
          ],
          [
           "okay and where are you a student",
           "and where are you a student"
          ],
          [
           "any previous surgeries",
           "any previous surgery"
          ],
          [
           "a couple times a month okay",
           "some"
          ],
          [
           "it sounds like uh",
           "sounds like a"
          ],
          [
           "uhm it started last night",
           "and it started last night"
          ],
          [
           "but i have used crystal meth in the past",
           "i have used a crystal bath of the past"
          ],
          [
           "those issues in my personal life",
           "in my personal life"
          ],
          [
           "I don't no I've",
           "i don't know"
          ],
          [
           "no I'm kinda just feel it here on the left side",
           "no i congealing rather on the left side"
          ],
          [
           "no",
           "no"
          ],
          [
           "yeah, I guess I'd say I have this frothy sputum",
           "yeah i guess i am said rose but"
          ],
          [
           "I've tried uh",
           "i"
          ],
          [
           "have you at all in the past been hospitalized for any reason",
           "have you at all in the past in contained person"
          ],
          [
           "ah i would say so yes",
           "i would say so yes"
          ],
          [
           "do you have any chronic conditions that you see your family doctor for",
           "do you have any product conditions that you see your family doctor for"
          ],
          [
           "fairly balanced overall, I might",
           "fairly balanced over all i might at"
          ],
          [
           "OK so but the pain just started half an hour ago?",
           "oces but the pain to started hop in anbor"
          ],
          [
           "tell me",
           "ta a"
          ],
          [
           "Sure thirty nine, I'm a male.",
           "sharp am thirty nine ah i'm a male"
          ],
          [
           "No hospitalizations.",
           "no osplizations"
          ],
          [
           "my parents",
           "my parent"
          ],
          [
           "I'd say it's worse when I when I walk more than 50 meters. That's kind of the main like that's kind of the main trigger, just exertion. OK, and were you able to walk normally more than 50 meters",
           "u i say it's worse when i when i walk more than fifty meters am lots connament the laskana the main tricker just exertion and were you able to walk con normally more than fifty meters"
          ],
          [
           "I'd say it's like a seven or eight. It's pretty bad. OK, and with the pain, do you have any other associated symptoms?",
           "i'd say it's like a seven or eight pretty bad o k an and with the pain do you have any other aassociated symptoms"
          ],
          [
           "No nausea or vomiting, but",
           "i'm no noger vomiting but"
          ],
          [
           "What brings you here today? I'm just having this really sharp pain in my chest and I'm scared. I think I'm having a heart attack.",
           "what brings you here to dit ift having this rilly sharp bain in my chest and i'm scared i think i'm having a heart attack ah well om ah you i must be really scarry"
          ],
          [
           "It feels dull. I feel like there's",
           "it feels doll i feel like thirst"
          ],
          [
           "For the past 10 to 15 years. OK, and do you smoke cannabis?",
           "for the past ten to fifteen years loka and doyou smoke like cadabas"
          ],
          [
           "Rosuvastatin and",
           "i resue i satin and"
          ],
          [
           "no",
           "no"
          ],
          [
           "come on about like gradually through time or suddenly just happened?",
           "hom onaboat like gradually through time wor a suddenly jus happen"
          ],
          [
           "OK, and where is this pain located? ",
           "o ka and a were is this pain located"
          ],
          [
           "Um not laying down helps.",
           "i'm not laying down helps"
          ],
          [
           "no um",
           "no m"
          ],
          [
           "No. OK, have you had any nausea or vomiting? ",
           "now o cat have you had any nodger bomiting"
          ],
          [
           "OK, and where is the pain exactly?",
           "and wy where is the pain exacle"
          ],
          [
           "Maybe taking a deep breath. Yeah. OK. And when the pain started, could you",
           "maybe taking a deep breath younger and and what the pain started culd ye an"
          ],
          [
           "Uh I'm an accountant.",
           "ah i'm a acounten's"
          ],
          [
           "What brings you in here today? Um yeah, I've just been feeling breathless and it's getting worse. So I wanted to check it out. OK, and when did you first start feeling breathless? About two months ago.",
           "what brings you in here to thet uh you have just been feeling ah breathless and its getting worse so i wanted to check it out you can and when did you a first start peeling breathwas about two months ago"
          ],
          [
           "I do take umm",
           "i do think yam"
          ],
          [
           "when you were doing that?",
           "when you redurin that"
          ],
          [
           "About the same, OK, and has it gotten more frequent",
           "the same moqe and has it gotten more frequent"
          ],
          [
           "yeah, I'm I'm just feeling this",
           "y i jus feeling this and"
          ],
          [
           "OK",
           "poge"
          ],
          [
           "been more stressed out in general",
           "been more stretched out in general"
          ],
          [
           "and within your family, has anyone passed away from",
           "and within your family has a any one passed away from"
          ],
          [
           "About a half a pack to a pack a day.",
           "better half a pack to your packe day"
          ],
          [
           "How would you describe it?",
           "hardy describe it"
          ],
          [
           "Excellent. Um alright, and could you tell me a little bit about your living situation currently?",
           "excellence am what fans and could you tom be aa a bit about your ouliving situation currently"
          ],
          [
           "OK",
           "pa"
          ],
          [
           "medications for",
           "metications for"
          ],
          [
           "OK",
           "poe"
          ],
          [
           "uh, yep, that's about it. OK, and uh how do you support yourself financially?",
           "so n yo at thea edge o care an and a how do you support yourself a financially"
          ],
          [
           "No. OK, how about any abdominal pain?",
           "and now ca ahow about any ebdominable pain"
          ],
          [
           "and how often do you use crystal meth?",
           "and how often dees cristelmont"
          ],
          [
           "fairly balanced overall, I might",
           "fairly balanced over all i might"
          ],
          [
           "OK so but the pain just started half an hour ago?",
           "but the taste talking"
          ],
          [
           "tell me",
           "tell"
          ],
          [
           "Sure thirty nine, I'm a male.",
           "sure thirty nine a a male"
          ],
          [
           "No hospitalizations.",
           "no aspiration"
          ],
          [
           "my parents",
           "my pen"
          ],
          [
           "I'd say it's worse when I when I walk more than 50 meters. That's kind of the main like that's kind of the main trigger, just exertion. OK, and were you able to walk normally more than 50 meters",
           "oh i say worth when i when i walk more than fifty meters that's canaanites come man trituration and were you able to walk on normally more than fifty meters"
          ],
          [
           "I'd say it's like a seven or eight. It's pretty bad. OK, and with the pain, do you have any other associated symptoms?",
           "i say i like a sudden or a pretty bad okay in it with the pain to have any other associated symptoms"
          ],
          [
           "No nausea or vomiting, but",
           "no nauseating but"
          ],
          [
           "What brings you here today? I'm just having this really sharp pain in my chest and I'm scared. I think I'm having a heart attack.",
           "in outdoing the really for being in my just and scared i think i'm having a heart to doubt alone feretory"
          ],
          [
           "It feels dull. I feel like there's",
           "i do feel like this"
          ],
          [
           "For the past 10 to 15 years. OK, and do you smoke cannabis?",
           "from a past ten to fifteen years oarsman is"
          ],
          [
           "Rosuvastatin and",
           "resumed and"
          ],
          [
           "no",
           "no"
          ],
          [
           "come on about like gradually through time or suddenly just happened?",
           "unable gradually through time were severely just to"
          ],
          [
           "OK, and where is this pain located? ",
           "okay and i where is this pain located"
          ],
          [
           "Um not laying down helps.",
           "laying down help"
          ],
          [
           "no um",
           "no"
          ],
          [
           "No. OK, have you had any nausea or vomiting? ",
           "now okay i botanising"
          ],
          [
           "OK, and where is the pain exactly?",
           "well where is the king to"
          ],
          [
           "Maybe taking a deep breath. Yeah. OK. And when the pain started, could you",
           "i may be taking a deep breath he and welfare could"
          ],
          [
           "Uh I'm an accountant.",
           "ah i nicotine"
          ],
          [
           "What brings you in here today? Um yeah, I've just been feeling breathless and it's getting worse. So I wanted to check it out. OK, and when did you first start feeling breathless? About two months ago.",
           "he brings to me just then feeling breathless and is getting worse so i wanted to check it out grierson ruthless over two months ago"
          ],
          [
           "I do take umm",
           "i do think"
          ],
          [
           "when you were doing that?",
           "when you're doing that"
          ],
          [
           "About the same, OK, and has it gotten more frequent",
           "the same way and as it got more frequent"
          ],
          [
           "yeah, I'm I'm just feeling this",
           "yeah i'm just feeling this"
          ],
          [
           "OK",
           "okay"
          ],
          [
           "been more stressed out in general",
           "more stress out in general"
          ],
          [
           "and within your family, has anyone passed away from",
           "and within your family has any one a term"
          ],
          [
           "About a half a pack to a pack a day.",
           "well half a pack to parade"
          ],
          [
           "How would you describe it?",
           "how did describe it"
          ],
          [
           "Excellent. Um alright, and could you tell me a little bit about your living situation currently?",
           "excellent but at and could you tell it about your living situation currently"
          ],
          [
           "OK",
           "right"
          ],
          [
           "medications for",
           "meditations for"
          ],
          [
           "OK",
           "okay"
          ],
          [
           "uh, yep, that's about it. OK, and uh how do you support yourself financially?",
           "he attitude how do you support yourself financially"
          ],
          [
           "No. OK, how about any abdominal pain?",
           "no okay i how about any abdominal pain"
          ],
          [
           "and how often do you use crystal meth?",
           "and how often do these persons"
          ]
         ],
         "legendgroup": "",
         "marker": {
          "color": "#636efa",
          "symbol": "circle"
         },
         "mode": "markers",
         "name": "",
         "orientation": "v",
         "showlegend": false,
         "type": "scatter",
         "x": [
          2,
          2,
          1,
          0,
          2,
          1,
          1,
          2,
          1,
          1,
          2,
          0,
          2,
          1,
          2,
          1,
          1,
          1,
          2,
          0,
          1,
          1,
          0,
          2,
          2,
          0,
          0,
          2,
          2,
          2,
          0,
          1,
          2,
          1,
          0,
          0,
          2,
          0,
          2,
          0,
          0,
          1,
          0,
          2,
          0,
          1,
          0,
          0,
          1,
          1,
          2,
          2,
          2,
          1,
          2,
          0,
          0,
          0,
          0,
          2,
          0,
          0,
          2,
          0,
          1,
          2,
          0,
          2,
          1,
          2,
          0,
          1,
          1,
          2,
          2,
          2,
          1,
          1,
          2,
          1,
          2,
          2,
          2,
          2,
          2,
          0,
          2,
          1,
          1,
          1,
          2,
          2,
          2,
          1,
          2,
          2,
          2,
          2,
          1,
          2,
          1,
          0,
          2,
          1,
          2,
          2,
          1,
          2,
          2,
          2,
          2,
          0,
          2,
          1,
          1,
          2,
          2,
          2,
          2,
          1,
          2,
          2,
          2,
          2,
          0,
          2,
          0,
          2,
          0,
          2,
          2,
          2,
          2,
          2,
          2,
          1,
          2,
          0,
          0,
          1,
          2,
          2,
          2,
          1,
          2,
          1,
          0,
          2,
          0,
          2
         ],
         "xaxis": "x",
         "y": [
          0.8804723769426346,
          0.6352704465389252,
          0.296284556388855,
          5.960464477539063e-08,
          0.7237967252731323,
          0.2950249910354614,
          0.7467003762722015,
          0.48479145765304565,
          0.7439871430397034,
          0.8556765019893646,
          0.7155695557594299,
          -2.384185791015625e-07,
          0.45385950803756714,
          0.23843616247177124,
          0.20889919996261597,
          0.2145974040031433,
          0.3673326373100281,
          0.34427422285079956,
          0.7887959629297256,
          -3.5762786865234375e-07,
          0.5468544065952301,
          0.40884125232696533,
          -2.384185791015625e-07,
          0.8904443234205246,
          0.9689854197204113,
          0.12643301486968994,
          0.05185270309448242,
          0.3977944850921631,
          0.6696494221687317,
          0.6833948791027069,
          5.960464477539063e-08,
          0.1969209909439087,
          0.5523077845573425,
          0.30025774240493774,
          0,
          0.2525094747543335,
          0.9162405803799629,
          0.15628981590270996,
          0.7214215397834778,
          5.960464477539063e-08,
          0.08438670635223389,
          0.2791621685028076,
          -2.384185791015625e-07,
          0.6411051750183105,
          -3.5762786865234375e-07,
          0.9162405803799629,
          0.1680445671081543,
          -2.384185791015625e-07,
          0.686754047870636,
          0.2027454376220703,
          0.5531587600708008,
          0.4908651113510132,
          0.37687885761260986,
          0.211600661277771,
          0.7049791216850281,
          -3.5762786865234375e-07,
          0.4688197374343872,
          0.18801522254943848,
          0.028545022010803223,
          0.8054303228855133,
          0.4086247682571411,
          0.12643301486968994,
          0.4485609531402588,
          0.32458436489105225,
          0.6586976945400238,
          0.3315455913543701,
          5.960464477539063e-08,
          0.8815673291683197,
          0.8223526179790497,
          0.5432059466838837,
          0.09420400857925415,
          0.221518874168396,
          0.16554373502731323,
          0.7311158776283264,
          0.8325551748275757,
          0.44589948654174805,
          0.5852144658565521,
          0.11269694566726685,
          0.2047966718673706,
          0.10362756252288818,
          0.416701078414917,
          0.3434641361236572,
          0.5900344252586365,
          0.4315638542175293,
          0.8655379712581635,
          5.960464477539063e-08,
          0.6286322474479675,
          0.3633514642715454,
          0.18114209175109863,
          0.3891716003417969,
          0.6660995483398438,
          0.4222378730773926,
          0.38131439685821533,
          0.5861215591430664,
          0.2768820524215698,
          0.7467679381370544,
          0.6494756639003754,
          0.37684154510498047,
          0.4387911558151245,
          0.7934918999671936,
          0.49901580810546875,
          0.05316734313964844,
          0.3839977979660034,
          0.45470762252807617,
          0.7268608212471008,
          0.8679116070270538,
          0.40240323543548584,
          0.8306271731853485,
          0.31393885612487793,
          0.33998018503189087,
          0.6976583003997803,
          0.17546415328979492,
          0.9533902555704117,
          0.33143359422683716,
          0.1801103949546814,
          0.7676614224910736,
          0.5948089361190796,
          0.6886656284332275,
          0.4677565097808838,
          0.33973830938339233,
          0.8102275133132935,
          0.5988889038562775,
          0.7944385707378387,
          0.8246162235736847,
          5.960464477539063e-08,
          0.6002700626850128,
          0.2071148157119751,
          0.36811697483062744,
          0.38161516189575195,
          0.8883006796240807,
          0.8205275535583496,
          0.6998412013053894,
          0.9013008028268814,
          0.7362777590751648,
          0.7625516355037689,
          0.34135252237319946,
          0.4699745178222656,
          0.07021689414978027,
          0.2795640230178833,
          0.20832663774490356,
          0.435782253742218,
          0.48186159133911133,
          0.35879164934158325,
          0.2523135542869568,
          0.6724180579185486,
          0.47575104236602783,
          0.2795640230178833,
          0.36325907707214355,
          0.09220129251480103,
          0.6168687641620636
         ],
         "yaxis": "y"
        },
        {
         "hovertemplate": "<b>OLS trendline</b><br>DisRob = 0.246318 * Human + 0.128615<br>R<sup>2</sup>=0.528347<br><br>Human=%{x}<br>DisRob=%{y} <b>(trend)</b><extra></extra>",
         "legendgroup": "",
         "marker": {
          "color": "#636efa",
          "symbol": "circle"
         },
         "mode": "lines",
         "name": "",
         "showlegend": false,
         "type": "scatter",
         "x": [
          0,
          0,
          0,
          0,
          0,
          0,
          0,
          0,
          0,
          0,
          0,
          0,
          0,
          0,
          0,
          0,
          0,
          0,
          0,
          0,
          0,
          0,
          0,
          0,
          0,
          0,
          0,
          0,
          0,
          0,
          0,
          0,
          0,
          0,
          0,
          1,
          1,
          1,
          1,
          1,
          1,
          1,
          1,
          1,
          1,
          1,
          1,
          1,
          1,
          1,
          1,
          1,
          1,
          1,
          1,
          1,
          1,
          1,
          1,
          1,
          1,
          1,
          1,
          1,
          1,
          1,
          1,
          1,
          1,
          1,
          1,
          1,
          1,
          1,
          1,
          2,
          2,
          2,
          2,
          2,
          2,
          2,
          2,
          2,
          2,
          2,
          2,
          2,
          2,
          2,
          2,
          2,
          2,
          2,
          2,
          2,
          2,
          2,
          2,
          2,
          2,
          2,
          2,
          2,
          2,
          2,
          2,
          2,
          2,
          2,
          2,
          2,
          2,
          2,
          2,
          2,
          2,
          2,
          2,
          2,
          2,
          2,
          2,
          2,
          2,
          2,
          2,
          2,
          2,
          2,
          2,
          2,
          2,
          2,
          2,
          2,
          2,
          2,
          2,
          2,
          2,
          2,
          2,
          2,
          2,
          2,
          2,
          2,
          2,
          2
         ],
         "xaxis": "x",
         "y": [
          0.12861493846414043,
          0.12861493846414043,
          0.12861493846414043,
          0.12861493846414043,
          0.12861493846414043,
          0.12861493846414043,
          0.12861493846414043,
          0.12861493846414043,
          0.12861493846414043,
          0.12861493846414043,
          0.12861493846414043,
          0.12861493846414043,
          0.12861493846414043,
          0.12861493846414043,
          0.12861493846414043,
          0.12861493846414043,
          0.12861493846414043,
          0.12861493846414043,
          0.12861493846414043,
          0.12861493846414043,
          0.12861493846414043,
          0.12861493846414043,
          0.12861493846414043,
          0.12861493846414043,
          0.12861493846414043,
          0.12861493846414043,
          0.12861493846414043,
          0.12861493846414043,
          0.12861493846414043,
          0.12861493846414043,
          0.12861493846414043,
          0.12861493846414043,
          0.12861493846414043,
          0.12861493846414043,
          0.12861493846414043,
          0.37493312490616465,
          0.37493312490616465,
          0.37493312490616465,
          0.37493312490616465,
          0.37493312490616465,
          0.37493312490616465,
          0.37493312490616465,
          0.37493312490616465,
          0.37493312490616465,
          0.37493312490616465,
          0.37493312490616465,
          0.37493312490616465,
          0.37493312490616465,
          0.37493312490616465,
          0.37493312490616465,
          0.37493312490616465,
          0.37493312490616465,
          0.37493312490616465,
          0.37493312490616465,
          0.37493312490616465,
          0.37493312490616465,
          0.37493312490616465,
          0.37493312490616465,
          0.37493312490616465,
          0.37493312490616465,
          0.37493312490616465,
          0.37493312490616465,
          0.37493312490616465,
          0.37493312490616465,
          0.37493312490616465,
          0.37493312490616465,
          0.37493312490616465,
          0.37493312490616465,
          0.37493312490616465,
          0.37493312490616465,
          0.37493312490616465,
          0.37493312490616465,
          0.37493312490616465,
          0.37493312490616465,
          0.37493312490616465,
          0.6212513113481889,
          0.6212513113481889,
          0.6212513113481889,
          0.6212513113481889,
          0.6212513113481889,
          0.6212513113481889,
          0.6212513113481889,
          0.6212513113481889,
          0.6212513113481889,
          0.6212513113481889,
          0.6212513113481889,
          0.6212513113481889,
          0.6212513113481889,
          0.6212513113481889,
          0.6212513113481889,
          0.6212513113481889,
          0.6212513113481889,
          0.6212513113481889,
          0.6212513113481889,
          0.6212513113481889,
          0.6212513113481889,
          0.6212513113481889,
          0.6212513113481889,
          0.6212513113481889,
          0.6212513113481889,
          0.6212513113481889,
          0.6212513113481889,
          0.6212513113481889,
          0.6212513113481889,
          0.6212513113481889,
          0.6212513113481889,
          0.6212513113481889,
          0.6212513113481889,
          0.6212513113481889,
          0.6212513113481889,
          0.6212513113481889,
          0.6212513113481889,
          0.6212513113481889,
          0.6212513113481889,
          0.6212513113481889,
          0.6212513113481889,
          0.6212513113481889,
          0.6212513113481889,
          0.6212513113481889,
          0.6212513113481889,
          0.6212513113481889,
          0.6212513113481889,
          0.6212513113481889,
          0.6212513113481889,
          0.6212513113481889,
          0.6212513113481889,
          0.6212513113481889,
          0.6212513113481889,
          0.6212513113481889,
          0.6212513113481889,
          0.6212513113481889,
          0.6212513113481889,
          0.6212513113481889,
          0.6212513113481889,
          0.6212513113481889,
          0.6212513113481889,
          0.6212513113481889,
          0.6212513113481889,
          0.6212513113481889,
          0.6212513113481889,
          0.6212513113481889,
          0.6212513113481889,
          0.6212513113481889,
          0.6212513113481889,
          0.6212513113481889,
          0.6212513113481889,
          0.6212513113481889,
          0.6212513113481889,
          0.6212513113481889,
          0.6212513113481889
         ],
         "yaxis": "y"
        }
       ],
       "layout": {
        "legend": {
         "tracegroupgap": 0
        },
        "template": {
         "data": {
          "bar": [
           {
            "error_x": {
             "color": "#2a3f5f"
            },
            "error_y": {
             "color": "#2a3f5f"
            },
            "marker": {
             "line": {
              "color": "#E5ECF6",
              "width": 0.5
             },
             "pattern": {
              "fillmode": "overlay",
              "size": 10,
              "solidity": 0.2
             }
            },
            "type": "bar"
           }
          ],
          "barpolar": [
           {
            "marker": {
             "line": {
              "color": "#E5ECF6",
              "width": 0.5
             },
             "pattern": {
              "fillmode": "overlay",
              "size": 10,
              "solidity": 0.2
             }
            },
            "type": "barpolar"
           }
          ],
          "carpet": [
           {
            "aaxis": {
             "endlinecolor": "#2a3f5f",
             "gridcolor": "white",
             "linecolor": "white",
             "minorgridcolor": "white",
             "startlinecolor": "#2a3f5f"
            },
            "baxis": {
             "endlinecolor": "#2a3f5f",
             "gridcolor": "white",
             "linecolor": "white",
             "minorgridcolor": "white",
             "startlinecolor": "#2a3f5f"
            },
            "type": "carpet"
           }
          ],
          "choropleth": [
           {
            "colorbar": {
             "outlinewidth": 0,
             "ticks": ""
            },
            "type": "choropleth"
           }
          ],
          "contour": [
           {
            "colorbar": {
             "outlinewidth": 0,
             "ticks": ""
            },
            "colorscale": [
             [
              0,
              "#0d0887"
             ],
             [
              0.1111111111111111,
              "#46039f"
             ],
             [
              0.2222222222222222,
              "#7201a8"
             ],
             [
              0.3333333333333333,
              "#9c179e"
             ],
             [
              0.4444444444444444,
              "#bd3786"
             ],
             [
              0.5555555555555556,
              "#d8576b"
             ],
             [
              0.6666666666666666,
              "#ed7953"
             ],
             [
              0.7777777777777778,
              "#fb9f3a"
             ],
             [
              0.8888888888888888,
              "#fdca26"
             ],
             [
              1,
              "#f0f921"
             ]
            ],
            "type": "contour"
           }
          ],
          "contourcarpet": [
           {
            "colorbar": {
             "outlinewidth": 0,
             "ticks": ""
            },
            "type": "contourcarpet"
           }
          ],
          "heatmap": [
           {
            "colorbar": {
             "outlinewidth": 0,
             "ticks": ""
            },
            "colorscale": [
             [
              0,
              "#0d0887"
             ],
             [
              0.1111111111111111,
              "#46039f"
             ],
             [
              0.2222222222222222,
              "#7201a8"
             ],
             [
              0.3333333333333333,
              "#9c179e"
             ],
             [
              0.4444444444444444,
              "#bd3786"
             ],
             [
              0.5555555555555556,
              "#d8576b"
             ],
             [
              0.6666666666666666,
              "#ed7953"
             ],
             [
              0.7777777777777778,
              "#fb9f3a"
             ],
             [
              0.8888888888888888,
              "#fdca26"
             ],
             [
              1,
              "#f0f921"
             ]
            ],
            "type": "heatmap"
           }
          ],
          "heatmapgl": [
           {
            "colorbar": {
             "outlinewidth": 0,
             "ticks": ""
            },
            "colorscale": [
             [
              0,
              "#0d0887"
             ],
             [
              0.1111111111111111,
              "#46039f"
             ],
             [
              0.2222222222222222,
              "#7201a8"
             ],
             [
              0.3333333333333333,
              "#9c179e"
             ],
             [
              0.4444444444444444,
              "#bd3786"
             ],
             [
              0.5555555555555556,
              "#d8576b"
             ],
             [
              0.6666666666666666,
              "#ed7953"
             ],
             [
              0.7777777777777778,
              "#fb9f3a"
             ],
             [
              0.8888888888888888,
              "#fdca26"
             ],
             [
              1,
              "#f0f921"
             ]
            ],
            "type": "heatmapgl"
           }
          ],
          "histogram": [
           {
            "marker": {
             "pattern": {
              "fillmode": "overlay",
              "size": 10,
              "solidity": 0.2
             }
            },
            "type": "histogram"
           }
          ],
          "histogram2d": [
           {
            "colorbar": {
             "outlinewidth": 0,
             "ticks": ""
            },
            "colorscale": [
             [
              0,
              "#0d0887"
             ],
             [
              0.1111111111111111,
              "#46039f"
             ],
             [
              0.2222222222222222,
              "#7201a8"
             ],
             [
              0.3333333333333333,
              "#9c179e"
             ],
             [
              0.4444444444444444,
              "#bd3786"
             ],
             [
              0.5555555555555556,
              "#d8576b"
             ],
             [
              0.6666666666666666,
              "#ed7953"
             ],
             [
              0.7777777777777778,
              "#fb9f3a"
             ],
             [
              0.8888888888888888,
              "#fdca26"
             ],
             [
              1,
              "#f0f921"
             ]
            ],
            "type": "histogram2d"
           }
          ],
          "histogram2dcontour": [
           {
            "colorbar": {
             "outlinewidth": 0,
             "ticks": ""
            },
            "colorscale": [
             [
              0,
              "#0d0887"
             ],
             [
              0.1111111111111111,
              "#46039f"
             ],
             [
              0.2222222222222222,
              "#7201a8"
             ],
             [
              0.3333333333333333,
              "#9c179e"
             ],
             [
              0.4444444444444444,
              "#bd3786"
             ],
             [
              0.5555555555555556,
              "#d8576b"
             ],
             [
              0.6666666666666666,
              "#ed7953"
             ],
             [
              0.7777777777777778,
              "#fb9f3a"
             ],
             [
              0.8888888888888888,
              "#fdca26"
             ],
             [
              1,
              "#f0f921"
             ]
            ],
            "type": "histogram2dcontour"
           }
          ],
          "mesh3d": [
           {
            "colorbar": {
             "outlinewidth": 0,
             "ticks": ""
            },
            "type": "mesh3d"
           }
          ],
          "parcoords": [
           {
            "line": {
             "colorbar": {
              "outlinewidth": 0,
              "ticks": ""
             }
            },
            "type": "parcoords"
           }
          ],
          "pie": [
           {
            "automargin": true,
            "type": "pie"
           }
          ],
          "scatter": [
           {
            "fillpattern": {
             "fillmode": "overlay",
             "size": 10,
             "solidity": 0.2
            },
            "type": "scatter"
           }
          ],
          "scatter3d": [
           {
            "line": {
             "colorbar": {
              "outlinewidth": 0,
              "ticks": ""
             }
            },
            "marker": {
             "colorbar": {
              "outlinewidth": 0,
              "ticks": ""
             }
            },
            "type": "scatter3d"
           }
          ],
          "scattercarpet": [
           {
            "marker": {
             "colorbar": {
              "outlinewidth": 0,
              "ticks": ""
             }
            },
            "type": "scattercarpet"
           }
          ],
          "scattergeo": [
           {
            "marker": {
             "colorbar": {
              "outlinewidth": 0,
              "ticks": ""
             }
            },
            "type": "scattergeo"
           }
          ],
          "scattergl": [
           {
            "marker": {
             "colorbar": {
              "outlinewidth": 0,
              "ticks": ""
             }
            },
            "type": "scattergl"
           }
          ],
          "scattermapbox": [
           {
            "marker": {
             "colorbar": {
              "outlinewidth": 0,
              "ticks": ""
             }
            },
            "type": "scattermapbox"
           }
          ],
          "scatterpolar": [
           {
            "marker": {
             "colorbar": {
              "outlinewidth": 0,
              "ticks": ""
             }
            },
            "type": "scatterpolar"
           }
          ],
          "scatterpolargl": [
           {
            "marker": {
             "colorbar": {
              "outlinewidth": 0,
              "ticks": ""
             }
            },
            "type": "scatterpolargl"
           }
          ],
          "scatterternary": [
           {
            "marker": {
             "colorbar": {
              "outlinewidth": 0,
              "ticks": ""
             }
            },
            "type": "scatterternary"
           }
          ],
          "surface": [
           {
            "colorbar": {
             "outlinewidth": 0,
             "ticks": ""
            },
            "colorscale": [
             [
              0,
              "#0d0887"
             ],
             [
              0.1111111111111111,
              "#46039f"
             ],
             [
              0.2222222222222222,
              "#7201a8"
             ],
             [
              0.3333333333333333,
              "#9c179e"
             ],
             [
              0.4444444444444444,
              "#bd3786"
             ],
             [
              0.5555555555555556,
              "#d8576b"
             ],
             [
              0.6666666666666666,
              "#ed7953"
             ],
             [
              0.7777777777777778,
              "#fb9f3a"
             ],
             [
              0.8888888888888888,
              "#fdca26"
             ],
             [
              1,
              "#f0f921"
             ]
            ],
            "type": "surface"
           }
          ],
          "table": [
           {
            "cells": {
             "fill": {
              "color": "#EBF0F8"
             },
             "line": {
              "color": "white"
             }
            },
            "header": {
             "fill": {
              "color": "#C8D4E3"
             },
             "line": {
              "color": "white"
             }
            },
            "type": "table"
           }
          ]
         },
         "layout": {
          "annotationdefaults": {
           "arrowcolor": "#2a3f5f",
           "arrowhead": 0,
           "arrowwidth": 1
          },
          "autotypenumbers": "strict",
          "coloraxis": {
           "colorbar": {
            "outlinewidth": 0,
            "ticks": ""
           }
          },
          "colorscale": {
           "diverging": [
            [
             0,
             "#8e0152"
            ],
            [
             0.1,
             "#c51b7d"
            ],
            [
             0.2,
             "#de77ae"
            ],
            [
             0.3,
             "#f1b6da"
            ],
            [
             0.4,
             "#fde0ef"
            ],
            [
             0.5,
             "#f7f7f7"
            ],
            [
             0.6,
             "#e6f5d0"
            ],
            [
             0.7,
             "#b8e186"
            ],
            [
             0.8,
             "#7fbc41"
            ],
            [
             0.9,
             "#4d9221"
            ],
            [
             1,
             "#276419"
            ]
           ],
           "sequential": [
            [
             0,
             "#0d0887"
            ],
            [
             0.1111111111111111,
             "#46039f"
            ],
            [
             0.2222222222222222,
             "#7201a8"
            ],
            [
             0.3333333333333333,
             "#9c179e"
            ],
            [
             0.4444444444444444,
             "#bd3786"
            ],
            [
             0.5555555555555556,
             "#d8576b"
            ],
            [
             0.6666666666666666,
             "#ed7953"
            ],
            [
             0.7777777777777778,
             "#fb9f3a"
            ],
            [
             0.8888888888888888,
             "#fdca26"
            ],
            [
             1,
             "#f0f921"
            ]
           ],
           "sequentialminus": [
            [
             0,
             "#0d0887"
            ],
            [
             0.1111111111111111,
             "#46039f"
            ],
            [
             0.2222222222222222,
             "#7201a8"
            ],
            [
             0.3333333333333333,
             "#9c179e"
            ],
            [
             0.4444444444444444,
             "#bd3786"
            ],
            [
             0.5555555555555556,
             "#d8576b"
            ],
            [
             0.6666666666666666,
             "#ed7953"
            ],
            [
             0.7777777777777778,
             "#fb9f3a"
            ],
            [
             0.8888888888888888,
             "#fdca26"
            ],
            [
             1,
             "#f0f921"
            ]
           ]
          },
          "colorway": [
           "#636efa",
           "#EF553B",
           "#00cc96",
           "#ab63fa",
           "#FFA15A",
           "#19d3f3",
           "#FF6692",
           "#B6E880",
           "#FF97FF",
           "#FECB52"
          ],
          "font": {
           "color": "#2a3f5f"
          },
          "geo": {
           "bgcolor": "white",
           "lakecolor": "white",
           "landcolor": "#E5ECF6",
           "showlakes": true,
           "showland": true,
           "subunitcolor": "white"
          },
          "hoverlabel": {
           "align": "left"
          },
          "hovermode": "closest",
          "mapbox": {
           "style": "light"
          },
          "paper_bgcolor": "white",
          "plot_bgcolor": "#E5ECF6",
          "polar": {
           "angularaxis": {
            "gridcolor": "white",
            "linecolor": "white",
            "ticks": ""
           },
           "bgcolor": "#E5ECF6",
           "radialaxis": {
            "gridcolor": "white",
            "linecolor": "white",
            "ticks": ""
           }
          },
          "scene": {
           "xaxis": {
            "backgroundcolor": "#E5ECF6",
            "gridcolor": "white",
            "gridwidth": 2,
            "linecolor": "white",
            "showbackground": true,
            "ticks": "",
            "zerolinecolor": "white"
           },
           "yaxis": {
            "backgroundcolor": "#E5ECF6",
            "gridcolor": "white",
            "gridwidth": 2,
            "linecolor": "white",
            "showbackground": true,
            "ticks": "",
            "zerolinecolor": "white"
           },
           "zaxis": {
            "backgroundcolor": "#E5ECF6",
            "gridcolor": "white",
            "gridwidth": 2,
            "linecolor": "white",
            "showbackground": true,
            "ticks": "",
            "zerolinecolor": "white"
           }
          },
          "shapedefaults": {
           "line": {
            "color": "#2a3f5f"
           }
          },
          "ternary": {
           "aaxis": {
            "gridcolor": "white",
            "linecolor": "white",
            "ticks": ""
           },
           "baxis": {
            "gridcolor": "white",
            "linecolor": "white",
            "ticks": ""
           },
           "bgcolor": "#E5ECF6",
           "caxis": {
            "gridcolor": "white",
            "linecolor": "white",
            "ticks": ""
           }
          },
          "title": {
           "x": 0.05
          },
          "xaxis": {
           "automargin": true,
           "gridcolor": "white",
           "linecolor": "white",
           "ticks": "",
           "title": {
            "standoff": 15
           },
           "zerolinecolor": "white",
           "zerolinewidth": 2
          },
          "yaxis": {
           "automargin": true,
           "gridcolor": "white",
           "linecolor": "white",
           "ticks": "",
           "title": {
            "standoff": 15
           },
           "zerolinecolor": "white",
           "zerolinewidth": 2
          }
         }
        },
        "title": {
         "text": "Human Rating vs DisRob Rating"
        },
        "xaxis": {
         "anchor": "y",
         "domain": [
          0,
          1
         ],
         "title": {
          "text": "Human"
         }
        },
        "yaxis": {
         "anchor": "x",
         "domain": [
          0,
          1
         ],
         "title": {
          "text": "DisRob"
         }
        }
       }
      }
     },
     "metadata": {},
     "output_type": "display_data"
    }
   ],
   "source": [
    "fig = px.scatter(\n",
    "    measures_df, x=\"Human\", y=\"DisRob\", \n",
    "    trendline=\"ols\",\n",
    "    labels={'x':'Human Rating', 'y':'DisRob Rating'},\n",
    "    title='Human Rating vs DisRob Rating',\n",
    "    hover_name=measures_df['pairs']\n",
    ")\n",
    "fig.show()"
   ]
  },
  {
   "cell_type": "code",
   "execution_count": null,
   "id": "48069ad9",
   "metadata": {},
   "outputs": [],
   "source": []
  },
  {
   "cell_type": "markdown",
   "id": "8ea8cf8e",
   "metadata": {},
   "source": [
    "## Ordinal Logistic Regression"
   ]
  },
  {
   "cell_type": "code",
   "execution_count": 23,
   "id": "6273ee6c",
   "metadata": {},
   "outputs": [],
   "source": [
    "import scipy.stats as stats\n",
    "\n",
    "from statsmodels.miscmodels.ordinal_model import OrderedModel\n"
   ]
  },
  {
   "cell_type": "code",
   "execution_count": 85,
   "id": "ca230174",
   "metadata": {},
   "outputs": [],
   "source": [
    "mod_prob_DisRob = OrderedModel(measures_df['Human'],\n",
    "                        measures_df[['DisRob']],\n",
    "                        distr='logit')"
   ]
  },
  {
   "cell_type": "code",
   "execution_count": 86,
   "id": "50b1dfca",
   "metadata": {},
   "outputs": [
    {
     "name": "stdout",
     "output_type": "stream",
     "text": [
      "Optimization terminated successfully.\n",
      "         Current function value: 0.690532\n",
      "         Iterations: 15\n",
      "         Function evaluations: 17\n",
      "         Gradient evaluations: 17\n"
     ]
    }
   ],
   "source": [
    "res_log_DisRob = mod_prob_DisRob.fit(method='bfgs')\n"
   ]
  },
  {
   "cell_type": "code",
   "execution_count": 87,
   "id": "4391da53",
   "metadata": {},
   "outputs": [
    {
     "data": {
      "text/html": [
       "<table class=\"simpletable\">\n",
       "<caption>OrderedModel Results</caption>\n",
       "<tr>\n",
       "  <th>Dep. Variable:</th>           <td>Human</td>       <th>  Log-Likelihood:    </th> <td> -103.58</td>\n",
       "</tr>\n",
       "<tr>\n",
       "  <th>Model:</th>               <td>OrderedModel</td>    <th>  AIC:               </th> <td>   213.2</td>\n",
       "</tr>\n",
       "<tr>\n",
       "  <th>Method:</th>           <td>Maximum Likelihood</td> <th>  BIC:               </th> <td>   222.2</td>\n",
       "</tr>\n",
       "<tr>\n",
       "  <th>Date:</th>              <td>Mon, 19 Dec 2022</td>  <th>                     </th>     <td> </td>   \n",
       "</tr>\n",
       "<tr>\n",
       "  <th>Time:</th>                  <td>11:33:32</td>      <th>                     </th>     <td> </td>   \n",
       "</tr>\n",
       "<tr>\n",
       "  <th>No. Observations:</th>       <td>   150</td>       <th>                     </th>     <td> </td>   \n",
       "</tr>\n",
       "<tr>\n",
       "  <th>Df Residuals:</th>           <td>   147</td>       <th>                     </th>     <td> </td>   \n",
       "</tr>\n",
       "<tr>\n",
       "  <th>Df Model:</th>               <td>     3</td>       <th>                     </th>     <td> </td>   \n",
       "</tr>\n",
       "</table>\n",
       "<table class=\"simpletable\">\n",
       "<tr>\n",
       "     <td></td>        <th>coef</th>     <th>std err</th>      <th>z</th>      <th>P>|z|</th>  <th>[0.025</th>    <th>0.975]</th>  \n",
       "</tr>\n",
       "<tr>\n",
       "  <th>DisRob</th>  <td>    8.0212</td> <td>    1.026</td> <td>    7.822</td> <td> 0.000</td> <td>    6.011</td> <td>   10.031</td>\n",
       "</tr>\n",
       "<tr>\n",
       "  <th>0.0/1.0</th> <td>    1.3504</td> <td>    0.361</td> <td>    3.745</td> <td> 0.000</td> <td>    0.644</td> <td>    2.057</td>\n",
       "</tr>\n",
       "<tr>\n",
       "  <th>1.0/2.0</th> <td>    0.7931</td> <td>    0.147</td> <td>    5.398</td> <td> 0.000</td> <td>    0.505</td> <td>    1.081</td>\n",
       "</tr>\n",
       "</table>"
      ],
      "text/plain": [
       "<class 'statsmodels.iolib.summary.Summary'>\n",
       "\"\"\"\n",
       "                             OrderedModel Results                             \n",
       "==============================================================================\n",
       "Dep. Variable:                  Human   Log-Likelihood:                -103.58\n",
       "Model:                   OrderedModel   AIC:                             213.2\n",
       "Method:            Maximum Likelihood   BIC:                             222.2\n",
       "Date:                Mon, 19 Dec 2022                                         \n",
       "Time:                        11:33:32                                         \n",
       "No. Observations:                 150                                         \n",
       "Df Residuals:                     147                                         \n",
       "Df Model:                           3                                         \n",
       "==============================================================================\n",
       "                 coef    std err          z      P>|z|      [0.025      0.975]\n",
       "------------------------------------------------------------------------------\n",
       "DisRob         8.0212      1.026      7.822      0.000       6.011      10.031\n",
       "0.0/1.0        1.3504      0.361      3.745      0.000       0.644       2.057\n",
       "1.0/2.0        0.7931      0.147      5.398      0.000       0.505       1.081\n",
       "==============================================================================\n",
       "\"\"\""
      ]
     },
     "execution_count": 87,
     "metadata": {},
     "output_type": "execute_result"
    }
   ],
   "source": [
    "res_log_DisRob.summary()\n"
   ]
  },
  {
   "cell_type": "code",
   "execution_count": 88,
   "id": "0be2abb6",
   "metadata": {},
   "outputs": [],
   "source": [
    "mod_prob_wer = OrderedModel(measures_df['Human'],\n",
    "                        measures_df[['WER']],\n",
    "                        distr='logit')"
   ]
  },
  {
   "cell_type": "code",
   "execution_count": 89,
   "id": "1b098c96",
   "metadata": {},
   "outputs": [
    {
     "name": "stdout",
     "output_type": "stream",
     "text": [
      "Optimization terminated successfully.\n",
      "         Current function value: 0.865833\n",
      "         Iterations: 15\n",
      "         Function evaluations: 16\n",
      "         Gradient evaluations: 16\n"
     ]
    },
    {
     "data": {
      "text/html": [
       "<table class=\"simpletable\">\n",
       "<caption>OrderedModel Results</caption>\n",
       "<tr>\n",
       "  <th>Dep. Variable:</th>           <td>Human</td>       <th>  Log-Likelihood:    </th> <td> -129.87</td>\n",
       "</tr>\n",
       "<tr>\n",
       "  <th>Model:</th>               <td>OrderedModel</td>    <th>  AIC:               </th> <td>   265.7</td>\n",
       "</tr>\n",
       "<tr>\n",
       "  <th>Method:</th>           <td>Maximum Likelihood</td> <th>  BIC:               </th> <td>   274.8</td>\n",
       "</tr>\n",
       "<tr>\n",
       "  <th>Date:</th>              <td>Mon, 19 Dec 2022</td>  <th>                     </th>     <td> </td>   \n",
       "</tr>\n",
       "<tr>\n",
       "  <th>Time:</th>                  <td>11:33:33</td>      <th>                     </th>     <td> </td>   \n",
       "</tr>\n",
       "<tr>\n",
       "  <th>No. Observations:</th>       <td>   150</td>       <th>                     </th>     <td> </td>   \n",
       "</tr>\n",
       "<tr>\n",
       "  <th>Df Residuals:</th>           <td>   147</td>       <th>                     </th>     <td> </td>   \n",
       "</tr>\n",
       "<tr>\n",
       "  <th>Df Model:</th>               <td>     3</td>       <th>                     </th>     <td> </td>   \n",
       "</tr>\n",
       "</table>\n",
       "<table class=\"simpletable\">\n",
       "<tr>\n",
       "     <td></td>        <th>coef</th>     <th>std err</th>      <th>z</th>      <th>P>|z|</th>  <th>[0.025</th>    <th>0.975]</th>  \n",
       "</tr>\n",
       "<tr>\n",
       "  <th>WER</th>     <td>    4.0187</td> <td>    0.639</td> <td>    6.290</td> <td> 0.000</td> <td>    2.766</td> <td>    5.271</td>\n",
       "</tr>\n",
       "<tr>\n",
       "  <th>0.0/1.0</th> <td>    0.7955</td> <td>    0.358</td> <td>    2.225</td> <td> 0.026</td> <td>    0.095</td> <td>    1.496</td>\n",
       "</tr>\n",
       "<tr>\n",
       "  <th>1.0/2.0</th> <td>    0.4706</td> <td>    0.146</td> <td>    3.227</td> <td> 0.001</td> <td>    0.185</td> <td>    0.756</td>\n",
       "</tr>\n",
       "</table>"
      ],
      "text/plain": [
       "<class 'statsmodels.iolib.summary.Summary'>\n",
       "\"\"\"\n",
       "                             OrderedModel Results                             \n",
       "==============================================================================\n",
       "Dep. Variable:                  Human   Log-Likelihood:                -129.87\n",
       "Model:                   OrderedModel   AIC:                             265.7\n",
       "Method:            Maximum Likelihood   BIC:                             274.8\n",
       "Date:                Mon, 19 Dec 2022                                         \n",
       "Time:                        11:33:33                                         \n",
       "No. Observations:                 150                                         \n",
       "Df Residuals:                     147                                         \n",
       "Df Model:                           3                                         \n",
       "==============================================================================\n",
       "                 coef    std err          z      P>|z|      [0.025      0.975]\n",
       "------------------------------------------------------------------------------\n",
       "WER            4.0187      0.639      6.290      0.000       2.766       5.271\n",
       "0.0/1.0        0.7955      0.358      2.225      0.026       0.095       1.496\n",
       "1.0/2.0        0.4706      0.146      3.227      0.001       0.185       0.756\n",
       "==============================================================================\n",
       "\"\"\""
      ]
     },
     "execution_count": 89,
     "metadata": {},
     "output_type": "execute_result"
    }
   ],
   "source": [
    "res_log_wer = mod_prob_wer.fit(method='bfgs')\n",
    "res_log_wer.summary()"
   ]
  },
  {
   "cell_type": "code",
   "execution_count": 90,
   "id": "461d5398",
   "metadata": {},
   "outputs": [
    {
     "name": "stderr",
     "output_type": "stream",
     "text": [
      "/opt/anaconda3/lib/python3.8/site-packages/statsmodels/miscmodels/ordinal_model.py:419: FutureWarning: Support for multi-dimensional indexing (e.g. `obj[:, None]`) is deprecated and will be removed in a future version.  Convert to a numpy array before indexing instead.\n",
      "/opt/anaconda3/lib/python3.8/site-packages/statsmodels/miscmodels/ordinal_model.py:419: FutureWarning: Support for multi-dimensional indexing (e.g. `obj[:, None]`) is deprecated and will be removed in a future version.  Convert to a numpy array before indexing instead.\n"
     ]
    }
   ],
   "source": [
    "predicted_dis = res_log_DisRob.model.predict(res_log_DisRob.params, exog=measures_df[['DisRob']])\n",
    "predicted_wer = res_log_wer.model.predict(res_log_wer.params, exog=measures_df[['WER']])\n"
   ]
  },
  {
   "cell_type": "code",
   "execution_count": 93,
   "id": "2edc45e5",
   "metadata": {},
   "outputs": [
    {
     "data": {
      "text/plain": [
       "array([2, 1, 1, 0, 2, 0, 2, 1, 2, 2, 2, 0, 2, 2, 0, 0, 2, 0, 2, 0, 2, 0,\n",
       "       0, 2, 2, 0, 0, 0, 2, 2, 0, 2, 2, 0, 0, 0, 2, 1, 2, 0, 2, 1, 0, 2,\n",
       "       0, 2, 2, 0, 2, 2, 2, 2, 1, 1, 2, 0, 2, 0, 1, 2, 2, 0, 1, 1, 2, 2,\n",
       "       0, 2, 2, 1, 0, 0, 2, 2, 2, 2, 2, 2, 2, 1, 2, 2, 2, 2, 2, 0, 2, 2,\n",
       "       1, 2, 2, 1, 2, 2, 2, 2, 2, 0, 2, 2, 0, 1, 2, 2, 2, 2, 2, 2, 2, 2,\n",
       "       2, 2, 2, 2, 2, 2, 2, 2, 2, 2, 2, 2, 2, 2, 0, 2, 1, 2, 2, 2, 2, 2,\n",
       "       2, 2, 2, 2, 2, 2, 2, 1, 2, 2, 2, 2, 2, 2, 2, 2, 2, 2])"
      ]
     },
     "execution_count": 93,
     "metadata": {},
     "output_type": "execute_result"
    }
   ],
   "source": [
    "predicted_wer.argmax(axis=1)"
   ]
  },
  {
   "cell_type": "code",
   "execution_count": 94,
   "id": "77736b0f",
   "metadata": {},
   "outputs": [
    {
     "data": {
      "text/plain": [
       "0.6133333333333333"
      ]
     },
     "execution_count": 94,
     "metadata": {},
     "output_type": "execute_result"
    }
   ],
   "source": [
    "np.mean(measures_df['Human'] == predicted_wer.argmax(axis=1))"
   ]
  },
  {
   "cell_type": "code",
   "execution_count": 95,
   "id": "3469910d",
   "metadata": {},
   "outputs": [
    {
     "data": {
      "text/plain": [
       "0.7133333333333334"
      ]
     },
     "execution_count": 95,
     "metadata": {},
     "output_type": "execute_result"
    }
   ],
   "source": [
    "np.mean(measures_df['Human'] == predicted_dis.argmax(axis=1))"
   ]
  },
  {
   "cell_type": "markdown",
   "id": "74c17c80",
   "metadata": {},
   "source": [
    "## KFold cross validation"
   ]
  },
  {
   "cell_type": "code",
   "execution_count": 35,
   "id": "e9612c74",
   "metadata": {},
   "outputs": [],
   "source": [
    "from sklearn.model_selection import KFold\n",
    "\n",
    "k=10\n",
    "splits=KFold(n_splits=k,shuffle=True,random_state=1)\n",
    "fold_perf ={\n",
    "    'DisRob_Acc': [],\n",
    "    'MP_Acc': [],\n",
    "    'MiniLM_Acc': [],\n",
    "    'BERTNLI_Acc': [],\n",
    "    'Flair_Acc': [],\n",
    "    'WER_Acc': [],\n",
    "    'Majority_Acc': []\n",
    "}\n"
   ]
  },
  {
   "cell_type": "code",
   "execution_count": 123,
   "id": "21784c6b",
   "metadata": {},
   "outputs": [
    {
     "name": "stdout",
     "output_type": "stream",
     "text": [
      "got split\n",
      "Optimization terminated successfully.\n",
      "         Current function value: 0.662727\n",
      "         Iterations: 15\n",
      "         Function evaluations: 17\n",
      "         Gradient evaluations: 17\n",
      "Optimization terminated successfully.\n",
      "         Current function value: 0.727092\n",
      "         Iterations: 14\n",
      "         Function evaluations: 16\n",
      "         Gradient evaluations: 16\n",
      "Optimization terminated successfully.\n",
      "         Current function value: 0.821077\n",
      "         Iterations: 15\n",
      "         Function evaluations: 17\n",
      "         Gradient evaluations: 17\n",
      "Optimization terminated successfully.\n",
      "         Current function value: 0.725716\n",
      "         Iterations: 14\n",
      "         Function evaluations: 16\n",
      "         Gradient evaluations: 16\n",
      "Optimization terminated successfully.\n",
      "         Current function value: 1.004455\n",
      "         Iterations: 11\n",
      "         Function evaluations: 12\n",
      "         Gradient evaluations: 12\n",
      "Optimization terminated successfully.\n",
      "         Current function value: 0.867178\n",
      "         Iterations: 15\n",
      "         Function evaluations: 16\n",
      "         Gradient evaluations: 16\n",
      "got split\n",
      "Optimization terminated successfully.\n",
      "         Current function value: 0.710019\n",
      "         Iterations: 15\n",
      "         Function evaluations: 17\n",
      "         Gradient evaluations: 17\n",
      "Optimization terminated successfully.\n",
      "         Current function value: 0.761624\n",
      "         Iterations: 13\n",
      "         Function evaluations: 15\n",
      "         Gradient evaluations: 15\n",
      "Optimization terminated successfully.\n",
      "         Current function value: 0.830738\n",
      "         Iterations: 13\n",
      "         Function evaluations: 16\n",
      "         Gradient evaluations: 16\n",
      "Optimization terminated successfully.\n",
      "         Current function value: 0.768919\n",
      "         Iterations: 13\n",
      "         Function evaluations: 15\n",
      "         Gradient evaluations: 15\n"
     ]
    },
    {
     "name": "stderr",
     "output_type": "stream",
     "text": [
      "/opt/anaconda3/lib/python3.8/site-packages/statsmodels/miscmodels/ordinal_model.py:419: FutureWarning: Support for multi-dimensional indexing (e.g. `obj[:, None]`) is deprecated and will be removed in a future version.  Convert to a numpy array before indexing instead.\n",
      "/opt/anaconda3/lib/python3.8/site-packages/statsmodels/miscmodels/ordinal_model.py:419: FutureWarning: Support for multi-dimensional indexing (e.g. `obj[:, None]`) is deprecated and will be removed in a future version.  Convert to a numpy array before indexing instead.\n",
      "/opt/anaconda3/lib/python3.8/site-packages/statsmodels/miscmodels/ordinal_model.py:419: FutureWarning: Support for multi-dimensional indexing (e.g. `obj[:, None]`) is deprecated and will be removed in a future version.  Convert to a numpy array before indexing instead.\n",
      "/opt/anaconda3/lib/python3.8/site-packages/statsmodels/miscmodels/ordinal_model.py:419: FutureWarning: Support for multi-dimensional indexing (e.g. `obj[:, None]`) is deprecated and will be removed in a future version.  Convert to a numpy array before indexing instead.\n",
      "/opt/anaconda3/lib/python3.8/site-packages/statsmodels/miscmodels/ordinal_model.py:419: FutureWarning: Support for multi-dimensional indexing (e.g. `obj[:, None]`) is deprecated and will be removed in a future version.  Convert to a numpy array before indexing instead.\n",
      "/opt/anaconda3/lib/python3.8/site-packages/statsmodels/miscmodels/ordinal_model.py:419: FutureWarning: Support for multi-dimensional indexing (e.g. `obj[:, None]`) is deprecated and will be removed in a future version.  Convert to a numpy array before indexing instead.\n"
     ]
    },
    {
     "name": "stdout",
     "output_type": "stream",
     "text": [
      "Optimization terminated successfully.\n",
      "         Current function value: 0.993580\n",
      "         Iterations: 11\n",
      "         Function evaluations: 12\n",
      "         Gradient evaluations: 12\n",
      "Optimization terminated successfully.\n",
      "         Current function value: 0.858813\n",
      "         Iterations: 15\n",
      "         Function evaluations: 16\n",
      "         Gradient evaluations: 16\n",
      "got split\n",
      "Optimization terminated successfully.\n",
      "         Current function value: 0.678483\n",
      "         Iterations: 15\n",
      "         Function evaluations: 17\n",
      "         Gradient evaluations: 17\n",
      "Optimization terminated successfully.\n",
      "         Current function value: 0.727421\n",
      "         Iterations: 14\n",
      "         Function evaluations: 16\n",
      "         Gradient evaluations: 16\n",
      "Optimization terminated successfully.\n",
      "         Current function value: 0.804182\n",
      "         Iterations: 13\n",
      "         Function evaluations: 16\n",
      "         Gradient evaluations: 16\n"
     ]
    },
    {
     "name": "stderr",
     "output_type": "stream",
     "text": [
      "/opt/anaconda3/lib/python3.8/site-packages/statsmodels/miscmodels/ordinal_model.py:419: FutureWarning: Support for multi-dimensional indexing (e.g. `obj[:, None]`) is deprecated and will be removed in a future version.  Convert to a numpy array before indexing instead.\n",
      "/opt/anaconda3/lib/python3.8/site-packages/statsmodels/miscmodels/ordinal_model.py:419: FutureWarning: Support for multi-dimensional indexing (e.g. `obj[:, None]`) is deprecated and will be removed in a future version.  Convert to a numpy array before indexing instead.\n",
      "/opt/anaconda3/lib/python3.8/site-packages/statsmodels/miscmodels/ordinal_model.py:419: FutureWarning: Support for multi-dimensional indexing (e.g. `obj[:, None]`) is deprecated and will be removed in a future version.  Convert to a numpy array before indexing instead.\n",
      "/opt/anaconda3/lib/python3.8/site-packages/statsmodels/miscmodels/ordinal_model.py:419: FutureWarning: Support for multi-dimensional indexing (e.g. `obj[:, None]`) is deprecated and will be removed in a future version.  Convert to a numpy array before indexing instead.\n",
      "/opt/anaconda3/lib/python3.8/site-packages/statsmodels/miscmodels/ordinal_model.py:419: FutureWarning: Support for multi-dimensional indexing (e.g. `obj[:, None]`) is deprecated and will be removed in a future version.  Convert to a numpy array before indexing instead.\n",
      "/opt/anaconda3/lib/python3.8/site-packages/statsmodels/miscmodels/ordinal_model.py:419: FutureWarning: Support for multi-dimensional indexing (e.g. `obj[:, None]`) is deprecated and will be removed in a future version.  Convert to a numpy array before indexing instead.\n"
     ]
    },
    {
     "name": "stdout",
     "output_type": "stream",
     "text": [
      "Optimization terminated successfully.\n",
      "         Current function value: 0.750375\n",
      "         Iterations: 12\n",
      "         Function evaluations: 14\n",
      "         Gradient evaluations: 14\n",
      "Optimization terminated successfully.\n",
      "         Current function value: 0.991990\n",
      "         Iterations: 11\n",
      "         Function evaluations: 12\n",
      "         Gradient evaluations: 12\n",
      "Optimization terminated successfully.\n",
      "         Current function value: 0.854464\n",
      "         Iterations: 15\n",
      "         Function evaluations: 16\n",
      "         Gradient evaluations: 16\n",
      "got split\n",
      "Optimization terminated successfully.\n",
      "         Current function value: 0.713554\n",
      "         Iterations: 15\n",
      "         Function evaluations: 17\n",
      "         Gradient evaluations: 17\n",
      "Optimization terminated successfully.\n",
      "         Current function value: 0.770370\n",
      "         Iterations: 13\n",
      "         Function evaluations: 15\n",
      "         Gradient evaluations: 15\n"
     ]
    },
    {
     "name": "stderr",
     "output_type": "stream",
     "text": [
      "/opt/anaconda3/lib/python3.8/site-packages/statsmodels/miscmodels/ordinal_model.py:419: FutureWarning: Support for multi-dimensional indexing (e.g. `obj[:, None]`) is deprecated and will be removed in a future version.  Convert to a numpy array before indexing instead.\n",
      "/opt/anaconda3/lib/python3.8/site-packages/statsmodels/miscmodels/ordinal_model.py:419: FutureWarning: Support for multi-dimensional indexing (e.g. `obj[:, None]`) is deprecated and will be removed in a future version.  Convert to a numpy array before indexing instead.\n",
      "/opt/anaconda3/lib/python3.8/site-packages/statsmodels/miscmodels/ordinal_model.py:419: FutureWarning: Support for multi-dimensional indexing (e.g. `obj[:, None]`) is deprecated and will be removed in a future version.  Convert to a numpy array before indexing instead.\n",
      "/opt/anaconda3/lib/python3.8/site-packages/statsmodels/miscmodels/ordinal_model.py:419: FutureWarning: Support for multi-dimensional indexing (e.g. `obj[:, None]`) is deprecated and will be removed in a future version.  Convert to a numpy array before indexing instead.\n",
      "/opt/anaconda3/lib/python3.8/site-packages/statsmodels/miscmodels/ordinal_model.py:419: FutureWarning: Support for multi-dimensional indexing (e.g. `obj[:, None]`) is deprecated and will be removed in a future version.  Convert to a numpy array before indexing instead.\n",
      "/opt/anaconda3/lib/python3.8/site-packages/statsmodels/miscmodels/ordinal_model.py:419: FutureWarning: Support for multi-dimensional indexing (e.g. `obj[:, None]`) is deprecated and will be removed in a future version.  Convert to a numpy array before indexing instead.\n"
     ]
    },
    {
     "name": "stdout",
     "output_type": "stream",
     "text": [
      "Optimization terminated successfully.\n",
      "         Current function value: 0.858655\n",
      "         Iterations: 13\n",
      "         Function evaluations: 16\n",
      "         Gradient evaluations: 16\n",
      "Optimization terminated successfully.\n",
      "         Current function value: 0.787959\n",
      "         Iterations: 13\n",
      "         Function evaluations: 15\n",
      "         Gradient evaluations: 15\n",
      "Optimization terminated successfully.\n",
      "         Current function value: 1.022289\n",
      "         Iterations: 11\n",
      "         Function evaluations: 12\n",
      "         Gradient evaluations: 12\n",
      "Optimization terminated successfully.\n",
      "         Current function value: 0.901987\n",
      "         Iterations: 15\n",
      "         Function evaluations: 16\n",
      "         Gradient evaluations: 16\n",
      "got split\n",
      "Optimization terminated successfully.\n",
      "         Current function value: 0.689681\n",
      "         Iterations: 14\n",
      "         Function evaluations: 16\n",
      "         Gradient evaluations: 16\n"
     ]
    },
    {
     "name": "stderr",
     "output_type": "stream",
     "text": [
      "/opt/anaconda3/lib/python3.8/site-packages/statsmodels/miscmodels/ordinal_model.py:419: FutureWarning: Support for multi-dimensional indexing (e.g. `obj[:, None]`) is deprecated and will be removed in a future version.  Convert to a numpy array before indexing instead.\n",
      "/opt/anaconda3/lib/python3.8/site-packages/statsmodels/miscmodels/ordinal_model.py:419: FutureWarning: Support for multi-dimensional indexing (e.g. `obj[:, None]`) is deprecated and will be removed in a future version.  Convert to a numpy array before indexing instead.\n",
      "/opt/anaconda3/lib/python3.8/site-packages/statsmodels/miscmodels/ordinal_model.py:419: FutureWarning: Support for multi-dimensional indexing (e.g. `obj[:, None]`) is deprecated and will be removed in a future version.  Convert to a numpy array before indexing instead.\n",
      "/opt/anaconda3/lib/python3.8/site-packages/statsmodels/miscmodels/ordinal_model.py:419: FutureWarning: Support for multi-dimensional indexing (e.g. `obj[:, None]`) is deprecated and will be removed in a future version.  Convert to a numpy array before indexing instead.\n",
      "/opt/anaconda3/lib/python3.8/site-packages/statsmodels/miscmodels/ordinal_model.py:419: FutureWarning: Support for multi-dimensional indexing (e.g. `obj[:, None]`) is deprecated and will be removed in a future version.  Convert to a numpy array before indexing instead.\n",
      "/opt/anaconda3/lib/python3.8/site-packages/statsmodels/miscmodels/ordinal_model.py:419: FutureWarning: Support for multi-dimensional indexing (e.g. `obj[:, None]`) is deprecated and will be removed in a future version.  Convert to a numpy array before indexing instead.\n"
     ]
    },
    {
     "name": "stdout",
     "output_type": "stream",
     "text": [
      "Optimization terminated successfully.\n",
      "         Current function value: 0.752898\n",
      "         Iterations: 13\n",
      "         Function evaluations: 15\n",
      "         Gradient evaluations: 15\n",
      "Optimization terminated successfully.\n",
      "         Current function value: 0.831608\n",
      "         Iterations: 13\n",
      "         Function evaluations: 16\n",
      "         Gradient evaluations: 16\n",
      "Optimization terminated successfully.\n",
      "         Current function value: 0.766987\n",
      "         Iterations: 13\n",
      "         Function evaluations: 15\n",
      "         Gradient evaluations: 15\n",
      "Optimization terminated successfully.\n",
      "         Current function value: 0.999299\n",
      "         Iterations: 11\n",
      "         Function evaluations: 12\n",
      "         Gradient evaluations: 12\n",
      "Optimization terminated successfully.\n",
      "         Current function value: 0.847773\n",
      "         Iterations: 15\n",
      "         Function evaluations: 16\n",
      "         Gradient evaluations: 16\n",
      "got split\n"
     ]
    },
    {
     "name": "stderr",
     "output_type": "stream",
     "text": [
      "/opt/anaconda3/lib/python3.8/site-packages/statsmodels/miscmodels/ordinal_model.py:419: FutureWarning: Support for multi-dimensional indexing (e.g. `obj[:, None]`) is deprecated and will be removed in a future version.  Convert to a numpy array before indexing instead.\n",
      "/opt/anaconda3/lib/python3.8/site-packages/statsmodels/miscmodels/ordinal_model.py:419: FutureWarning: Support for multi-dimensional indexing (e.g. `obj[:, None]`) is deprecated and will be removed in a future version.  Convert to a numpy array before indexing instead.\n",
      "/opt/anaconda3/lib/python3.8/site-packages/statsmodels/miscmodels/ordinal_model.py:419: FutureWarning: Support for multi-dimensional indexing (e.g. `obj[:, None]`) is deprecated and will be removed in a future version.  Convert to a numpy array before indexing instead.\n",
      "/opt/anaconda3/lib/python3.8/site-packages/statsmodels/miscmodels/ordinal_model.py:419: FutureWarning: Support for multi-dimensional indexing (e.g. `obj[:, None]`) is deprecated and will be removed in a future version.  Convert to a numpy array before indexing instead.\n",
      "/opt/anaconda3/lib/python3.8/site-packages/statsmodels/miscmodels/ordinal_model.py:419: FutureWarning: Support for multi-dimensional indexing (e.g. `obj[:, None]`) is deprecated and will be removed in a future version.  Convert to a numpy array before indexing instead.\n",
      "/opt/anaconda3/lib/python3.8/site-packages/statsmodels/miscmodels/ordinal_model.py:419: FutureWarning: Support for multi-dimensional indexing (e.g. `obj[:, None]`) is deprecated and will be removed in a future version.  Convert to a numpy array before indexing instead.\n"
     ]
    },
    {
     "name": "stdout",
     "output_type": "stream",
     "text": [
      "Optimization terminated successfully.\n",
      "         Current function value: 0.712068\n",
      "         Iterations: 15\n",
      "         Function evaluations: 17\n",
      "         Gradient evaluations: 17\n",
      "Optimization terminated successfully.\n",
      "         Current function value: 0.751267\n",
      "         Iterations: 13\n",
      "         Function evaluations: 15\n",
      "         Gradient evaluations: 15\n",
      "Optimization terminated successfully.\n",
      "         Current function value: 0.802540\n",
      "         Iterations: 14\n",
      "         Function evaluations: 17\n",
      "         Gradient evaluations: 17\n",
      "Optimization terminated successfully.\n",
      "         Current function value: 0.768918\n",
      "         Iterations: 13\n",
      "         Function evaluations: 15\n",
      "         Gradient evaluations: 15\n",
      "Optimization terminated successfully.\n",
      "         Current function value: 1.015574\n",
      "         Iterations: 11\n",
      "         Function evaluations: 12\n",
      "         Gradient evaluations: 12\n",
      "Optimization terminated successfully.\n",
      "         Current function value: 0.870585\n",
      "         Iterations: 15\n",
      "         Function evaluations: 16\n",
      "         Gradient evaluations: 16\n",
      "got split\n",
      "Optimization terminated successfully.\n",
      "         Current function value: 0.665863\n",
      "         Iterations: 15\n",
      "         Function evaluations: 17\n",
      "         Gradient evaluations: 17\n",
      "Optimization terminated successfully.\n",
      "         Current function value: 0.719088\n",
      "         Iterations: 14\n",
      "         Function evaluations: 16\n",
      "         Gradient evaluations: 16\n",
      "Optimization terminated successfully.\n",
      "         Current function value: 0.817466\n",
      "         Iterations: 13\n",
      "         Function evaluations: 16\n",
      "         Gradient evaluations: 16\n",
      "Optimization terminated successfully.\n",
      "         Current function value: 0.738813\n",
      "         Iterations: 13\n",
      "         Function evaluations: 15\n",
      "         Gradient evaluations: 15\n"
     ]
    },
    {
     "name": "stderr",
     "output_type": "stream",
     "text": [
      "/opt/anaconda3/lib/python3.8/site-packages/statsmodels/miscmodels/ordinal_model.py:419: FutureWarning: Support for multi-dimensional indexing (e.g. `obj[:, None]`) is deprecated and will be removed in a future version.  Convert to a numpy array before indexing instead.\n",
      "/opt/anaconda3/lib/python3.8/site-packages/statsmodels/miscmodels/ordinal_model.py:419: FutureWarning: Support for multi-dimensional indexing (e.g. `obj[:, None]`) is deprecated and will be removed in a future version.  Convert to a numpy array before indexing instead.\n",
      "/opt/anaconda3/lib/python3.8/site-packages/statsmodels/miscmodels/ordinal_model.py:419: FutureWarning: Support for multi-dimensional indexing (e.g. `obj[:, None]`) is deprecated and will be removed in a future version.  Convert to a numpy array before indexing instead.\n",
      "/opt/anaconda3/lib/python3.8/site-packages/statsmodels/miscmodels/ordinal_model.py:419: FutureWarning: Support for multi-dimensional indexing (e.g. `obj[:, None]`) is deprecated and will be removed in a future version.  Convert to a numpy array before indexing instead.\n",
      "/opt/anaconda3/lib/python3.8/site-packages/statsmodels/miscmodels/ordinal_model.py:419: FutureWarning: Support for multi-dimensional indexing (e.g. `obj[:, None]`) is deprecated and will be removed in a future version.  Convert to a numpy array before indexing instead.\n",
      "/opt/anaconda3/lib/python3.8/site-packages/statsmodels/miscmodels/ordinal_model.py:419: FutureWarning: Support for multi-dimensional indexing (e.g. `obj[:, None]`) is deprecated and will be removed in a future version.  Convert to a numpy array before indexing instead.\n"
     ]
    },
    {
     "name": "stdout",
     "output_type": "stream",
     "text": [
      "Optimization terminated successfully.\n",
      "         Current function value: 1.006524\n",
      "         Iterations: 11\n",
      "         Function evaluations: 12\n",
      "         Gradient evaluations: 12\n",
      "Optimization terminated successfully.\n",
      "         Current function value: 0.853387\n",
      "         Iterations: 15\n",
      "         Function evaluations: 16\n",
      "         Gradient evaluations: 16\n",
      "got split\n",
      "Optimization terminated successfully.\n",
      "         Current function value: 0.698914\n",
      "         Iterations: 15\n",
      "         Function evaluations: 17\n",
      "         Gradient evaluations: 17\n",
      "Optimization terminated successfully.\n",
      "         Current function value: 0.734293\n",
      "         Iterations: 14\n",
      "         Function evaluations: 16\n",
      "         Gradient evaluations: 16\n",
      "Optimization terminated successfully.\n",
      "         Current function value: 0.811404\n",
      "         Iterations: 13\n",
      "         Function evaluations: 16\n",
      "         Gradient evaluations: 16\n"
     ]
    },
    {
     "name": "stderr",
     "output_type": "stream",
     "text": [
      "/opt/anaconda3/lib/python3.8/site-packages/statsmodels/miscmodels/ordinal_model.py:419: FutureWarning: Support for multi-dimensional indexing (e.g. `obj[:, None]`) is deprecated and will be removed in a future version.  Convert to a numpy array before indexing instead.\n",
      "/opt/anaconda3/lib/python3.8/site-packages/statsmodels/miscmodels/ordinal_model.py:419: FutureWarning: Support for multi-dimensional indexing (e.g. `obj[:, None]`) is deprecated and will be removed in a future version.  Convert to a numpy array before indexing instead.\n",
      "/opt/anaconda3/lib/python3.8/site-packages/statsmodels/miscmodels/ordinal_model.py:419: FutureWarning: Support for multi-dimensional indexing (e.g. `obj[:, None]`) is deprecated and will be removed in a future version.  Convert to a numpy array before indexing instead.\n",
      "/opt/anaconda3/lib/python3.8/site-packages/statsmodels/miscmodels/ordinal_model.py:419: FutureWarning: Support for multi-dimensional indexing (e.g. `obj[:, None]`) is deprecated and will be removed in a future version.  Convert to a numpy array before indexing instead.\n",
      "/opt/anaconda3/lib/python3.8/site-packages/statsmodels/miscmodels/ordinal_model.py:419: FutureWarning: Support for multi-dimensional indexing (e.g. `obj[:, None]`) is deprecated and will be removed in a future version.  Convert to a numpy array before indexing instead.\n",
      "/opt/anaconda3/lib/python3.8/site-packages/statsmodels/miscmodels/ordinal_model.py:419: FutureWarning: Support for multi-dimensional indexing (e.g. `obj[:, None]`) is deprecated and will be removed in a future version.  Convert to a numpy array before indexing instead.\n"
     ]
    },
    {
     "name": "stdout",
     "output_type": "stream",
     "text": [
      "Optimization terminated successfully.\n",
      "         Current function value: 0.745143\n",
      "         Iterations: 14\n",
      "         Function evaluations: 16\n",
      "         Gradient evaluations: 16\n",
      "Optimization terminated successfully.\n",
      "         Current function value: 0.993789\n",
      "         Iterations: 11\n",
      "         Function evaluations: 12\n",
      "         Gradient evaluations: 12\n",
      "Optimization terminated successfully.\n",
      "         Current function value: 0.877669\n",
      "         Iterations: 15\n",
      "         Function evaluations: 16\n",
      "         Gradient evaluations: 16\n",
      "got split\n",
      "Optimization terminated successfully.\n",
      "         Current function value: 0.678968\n",
      "         Iterations: 15\n",
      "         Function evaluations: 17\n",
      "         Gradient evaluations: 17\n",
      "Optimization terminated successfully.\n",
      "         Current function value: 0.705900\n",
      "         Iterations: 15\n",
      "         Function evaluations: 17\n",
      "         Gradient evaluations: 17\n"
     ]
    },
    {
     "name": "stderr",
     "output_type": "stream",
     "text": [
      "/opt/anaconda3/lib/python3.8/site-packages/statsmodels/miscmodels/ordinal_model.py:419: FutureWarning: Support for multi-dimensional indexing (e.g. `obj[:, None]`) is deprecated and will be removed in a future version.  Convert to a numpy array before indexing instead.\n",
      "/opt/anaconda3/lib/python3.8/site-packages/statsmodels/miscmodels/ordinal_model.py:419: FutureWarning: Support for multi-dimensional indexing (e.g. `obj[:, None]`) is deprecated and will be removed in a future version.  Convert to a numpy array before indexing instead.\n",
      "/opt/anaconda3/lib/python3.8/site-packages/statsmodels/miscmodels/ordinal_model.py:419: FutureWarning: Support for multi-dimensional indexing (e.g. `obj[:, None]`) is deprecated and will be removed in a future version.  Convert to a numpy array before indexing instead.\n",
      "/opt/anaconda3/lib/python3.8/site-packages/statsmodels/miscmodels/ordinal_model.py:419: FutureWarning: Support for multi-dimensional indexing (e.g. `obj[:, None]`) is deprecated and will be removed in a future version.  Convert to a numpy array before indexing instead.\n",
      "/opt/anaconda3/lib/python3.8/site-packages/statsmodels/miscmodels/ordinal_model.py:419: FutureWarning: Support for multi-dimensional indexing (e.g. `obj[:, None]`) is deprecated and will be removed in a future version.  Convert to a numpy array before indexing instead.\n",
      "/opt/anaconda3/lib/python3.8/site-packages/statsmodels/miscmodels/ordinal_model.py:419: FutureWarning: Support for multi-dimensional indexing (e.g. `obj[:, None]`) is deprecated and will be removed in a future version.  Convert to a numpy array before indexing instead.\n"
     ]
    },
    {
     "name": "stdout",
     "output_type": "stream",
     "text": [
      "Optimization terminated successfully.\n",
      "         Current function value: 0.806675\n",
      "         Iterations: 15\n",
      "         Function evaluations: 17\n",
      "         Gradient evaluations: 17\n",
      "Optimization terminated successfully.\n",
      "         Current function value: 0.731089\n",
      "         Iterations: 14\n",
      "         Function evaluations: 16\n",
      "         Gradient evaluations: 16\n",
      "Optimization terminated successfully.\n",
      "         Current function value: 0.996751\n",
      "         Iterations: 11\n",
      "         Function evaluations: 12\n",
      "         Gradient evaluations: 12\n",
      "Optimization terminated successfully.\n",
      "         Current function value: 0.866992\n",
      "         Iterations: 15\n",
      "         Function evaluations: 16\n",
      "         Gradient evaluations: 16\n",
      "got split\n",
      "Optimization terminated successfully.\n",
      "         Current function value: 0.687150\n",
      "         Iterations: 15\n",
      "         Function evaluations: 17\n",
      "         Gradient evaluations: 17\n"
     ]
    },
    {
     "name": "stderr",
     "output_type": "stream",
     "text": [
      "/opt/anaconda3/lib/python3.8/site-packages/statsmodels/miscmodels/ordinal_model.py:419: FutureWarning: Support for multi-dimensional indexing (e.g. `obj[:, None]`) is deprecated and will be removed in a future version.  Convert to a numpy array before indexing instead.\n",
      "/opt/anaconda3/lib/python3.8/site-packages/statsmodels/miscmodels/ordinal_model.py:419: FutureWarning: Support for multi-dimensional indexing (e.g. `obj[:, None]`) is deprecated and will be removed in a future version.  Convert to a numpy array before indexing instead.\n",
      "/opt/anaconda3/lib/python3.8/site-packages/statsmodels/miscmodels/ordinal_model.py:419: FutureWarning: Support for multi-dimensional indexing (e.g. `obj[:, None]`) is deprecated and will be removed in a future version.  Convert to a numpy array before indexing instead.\n",
      "/opt/anaconda3/lib/python3.8/site-packages/statsmodels/miscmodels/ordinal_model.py:419: FutureWarning: Support for multi-dimensional indexing (e.g. `obj[:, None]`) is deprecated and will be removed in a future version.  Convert to a numpy array before indexing instead.\n",
      "/opt/anaconda3/lib/python3.8/site-packages/statsmodels/miscmodels/ordinal_model.py:419: FutureWarning: Support for multi-dimensional indexing (e.g. `obj[:, None]`) is deprecated and will be removed in a future version.  Convert to a numpy array before indexing instead.\n",
      "/opt/anaconda3/lib/python3.8/site-packages/statsmodels/miscmodels/ordinal_model.py:419: FutureWarning: Support for multi-dimensional indexing (e.g. `obj[:, None]`) is deprecated and will be removed in a future version.  Convert to a numpy array before indexing instead.\n"
     ]
    },
    {
     "name": "stdout",
     "output_type": "stream",
     "text": [
      "Optimization terminated successfully.\n",
      "         Current function value: 0.734237\n",
      "         Iterations: 14\n",
      "         Function evaluations: 16\n",
      "         Gradient evaluations: 16\n",
      "Optimization terminated successfully.\n",
      "         Current function value: 0.826367\n",
      "         Iterations: 13\n",
      "         Function evaluations: 16\n",
      "         Gradient evaluations: 16\n",
      "Optimization terminated successfully.\n",
      "         Current function value: 0.758857\n",
      "         Iterations: 13\n",
      "         Function evaluations: 15\n",
      "         Gradient evaluations: 15\n",
      "Optimization terminated successfully.\n",
      "         Current function value: 0.982171\n",
      "         Iterations: 11\n",
      "         Function evaluations: 12\n",
      "         Gradient evaluations: 12\n",
      "Optimization terminated successfully.\n",
      "         Current function value: 0.851818\n",
      "         Iterations: 15\n",
      "         Function evaluations: 16\n",
      "         Gradient evaluations: 16\n"
     ]
    },
    {
     "name": "stderr",
     "output_type": "stream",
     "text": [
      "/opt/anaconda3/lib/python3.8/site-packages/statsmodels/miscmodels/ordinal_model.py:419: FutureWarning: Support for multi-dimensional indexing (e.g. `obj[:, None]`) is deprecated and will be removed in a future version.  Convert to a numpy array before indexing instead.\n",
      "/opt/anaconda3/lib/python3.8/site-packages/statsmodels/miscmodels/ordinal_model.py:419: FutureWarning: Support for multi-dimensional indexing (e.g. `obj[:, None]`) is deprecated and will be removed in a future version.  Convert to a numpy array before indexing instead.\n",
      "/opt/anaconda3/lib/python3.8/site-packages/statsmodels/miscmodels/ordinal_model.py:419: FutureWarning: Support for multi-dimensional indexing (e.g. `obj[:, None]`) is deprecated and will be removed in a future version.  Convert to a numpy array before indexing instead.\n",
      "/opt/anaconda3/lib/python3.8/site-packages/statsmodels/miscmodels/ordinal_model.py:419: FutureWarning: Support for multi-dimensional indexing (e.g. `obj[:, None]`) is deprecated and will be removed in a future version.  Convert to a numpy array before indexing instead.\n",
      "/opt/anaconda3/lib/python3.8/site-packages/statsmodels/miscmodels/ordinal_model.py:419: FutureWarning: Support for multi-dimensional indexing (e.g. `obj[:, None]`) is deprecated and will be removed in a future version.  Convert to a numpy array before indexing instead.\n",
      "/opt/anaconda3/lib/python3.8/site-packages/statsmodels/miscmodels/ordinal_model.py:419: FutureWarning: Support for multi-dimensional indexing (e.g. `obj[:, None]`) is deprecated and will be removed in a future version.  Convert to a numpy array before indexing instead.\n"
     ]
    }
   ],
   "source": [
    "for train_index, test_index in splits.split(measures_df):\n",
    "    # get split    \n",
    "    train, test = measures_df.iloc[train_index], measures_df.iloc[test_index]\n",
    "    print('got split')\n",
    "    # train and fit     \n",
    "    mod_prob_DisRob = OrderedModel(train['Human'],\n",
    "                        train[['DisRob']],\n",
    "                        distr='logit')\n",
    "    res_log_DisRob = mod_prob_DisRob.fit(method='bfgs')\n",
    "    \n",
    "    mod_prob_MP = OrderedModel(train['Human'],\n",
    "                        train[['MPNET']],\n",
    "                        distr='logit')\n",
    "    res_log_MP = mod_prob_MP.fit(method='bfgs')\n",
    "    \n",
    "    mod_prob_BERT = OrderedModel(train['Human'],\n",
    "                        train[['BertNLI']],\n",
    "                        distr='logit')\n",
    "    res_log_BERT = mod_prob_BERT.fit(method='bfgs')\n",
    "    \n",
    "    mod_prob_MINI = OrderedModel(train['Human'],\n",
    "                        train[['MiniLM']],\n",
    "                        distr='logit')\n",
    "    res_log_MINI = mod_prob_MINI.fit(method='bfgs')\n",
    "    \n",
    "    mod_prob_Flair = OrderedModel(train['Human'],\n",
    "                        train[['FLAIR_DS']],\n",
    "                        distr='logit')\n",
    "    res_log_Flair = mod_prob_Flair.fit(method='bfgs')\n",
    "\n",
    "    \n",
    "    mod_prob_wer = OrderedModel(train['Human'],\n",
    "                        train[['WER']],\n",
    "                        distr='logit')\n",
    "    res_log_wer = mod_prob_wer.fit(method='bfgs')\n",
    "\n",
    "    # predict test set     \n",
    "    predicted_dis = res_log_DisRob.model.predict(res_log_DisRob.params, exog=test[['DisRob']])\n",
    "    predicted_mp = res_log_MP.model.predict(res_log_MP.params, exog=test[['MPNET']])\n",
    "    predicted_bert = res_log_BERT.model.predict(res_log_BERT.params, exog=test[['BertNLI']])\n",
    "    predicted_mini = res_log_MINI.model.predict(res_log_MINI.params, exog=test[['MiniLM']])\n",
    "    \n",
    "    predicted_flair = res_log_Flair.model.predict(res_log_Flair.params, exog=test[['FLAIR_DS']])\n",
    "    predicted_wer = res_log_wer.model.predict(res_log_wer.params, exog=test[['WER']])\n",
    "    predict_majority = np.repeat(train['Human'].mode()[0], len(test['Human']))\n",
    "    \n",
    "    fold_perf['DisRob_Acc'].append(np.mean(test['Human'] == predicted_dis.argmax(axis=1)))\n",
    "    fold_perf['MP_Acc'].append(np.mean(test['Human'] == predicted_mp.argmax(axis=1)))\n",
    "    fold_perf['BERTNLI_Acc'].append(np.mean(test['Human'] == predicted_bert.argmax(axis=1)))\n",
    "    fold_perf['MiniLM_Acc'].append(np.mean(test['Human'] == predicted_mini.argmax(axis=1)))\n",
    "    \n",
    "    fold_perf['Flair_Acc'].append(np.mean(test['Human'] == predicted_flair.argmax(axis=1)))\n",
    "    fold_perf['WER_Acc'].append(np.mean(test['Human'] == predicted_wer.argmax(axis=1)))\n",
    "    fold_perf['Majority_Acc'].append(np.mean(test['Human'] == predict_majority))\n",
    " "
   ]
  },
  {
   "cell_type": "code",
   "execution_count": 124,
   "id": "58db45f2",
   "metadata": {},
   "outputs": [
    {
     "data": {
      "text/plain": [
       "0.7066666666666667"
      ]
     },
     "execution_count": 124,
     "metadata": {},
     "output_type": "execute_result"
    }
   ],
   "source": [
    "np.mean(fold_perf['DisRob_Acc'])"
   ]
  },
  {
   "cell_type": "code",
   "execution_count": 125,
   "id": "2de7b135",
   "metadata": {},
   "outputs": [
    {
     "data": {
      "text/plain": [
       "0.6199999999999999"
      ]
     },
     "execution_count": 125,
     "metadata": {},
     "output_type": "execute_result"
    }
   ],
   "source": [
    "np.mean(fold_perf['WER_Acc'])"
   ]
  },
  {
   "cell_type": "code",
   "execution_count": 126,
   "id": "7e7c234a",
   "metadata": {},
   "outputs": [
    {
     "data": {
      "text/plain": [
       "0.5"
      ]
     },
     "execution_count": 126,
     "metadata": {},
     "output_type": "execute_result"
    }
   ],
   "source": [
    "np.mean(fold_perf['Flair_Acc'])"
   ]
  },
  {
   "cell_type": "code",
   "execution_count": 127,
   "id": "99979e17",
   "metadata": {},
   "outputs": [
    {
     "data": {
      "text/plain": [
       "0.5"
      ]
     },
     "execution_count": 127,
     "metadata": {},
     "output_type": "execute_result"
    }
   ],
   "source": [
    "np.mean(fold_perf['Majority_Acc'])"
   ]
  },
  {
   "cell_type": "code",
   "execution_count": 128,
   "id": "ad49fa9a",
   "metadata": {},
   "outputs": [
    {
     "data": {
      "text/plain": [
       "0.6666666666666667"
      ]
     },
     "execution_count": 128,
     "metadata": {},
     "output_type": "execute_result"
    }
   ],
   "source": [
    "np.mean(fold_perf['MP_Acc'])"
   ]
  },
  {
   "cell_type": "code",
   "execution_count": 129,
   "id": "3e9476d1",
   "metadata": {},
   "outputs": [
    {
     "data": {
      "text/plain": [
       "0.66"
      ]
     },
     "execution_count": 129,
     "metadata": {},
     "output_type": "execute_result"
    }
   ],
   "source": [
    "np.mean(fold_perf['MiniLM_Acc'])"
   ]
  },
  {
   "cell_type": "code",
   "execution_count": 121,
   "id": "e50a5f33",
   "metadata": {},
   "outputs": [
    {
     "data": {
      "text/plain": [
       "0.6333333333333333"
      ]
     },
     "execution_count": 121,
     "metadata": {},
     "output_type": "execute_result"
    }
   ],
   "source": [
    "np.mean(fold_perf['BERTNLI_Acc'])"
   ]
  },
  {
   "cell_type": "code",
   "execution_count": null,
   "id": "85721b3b",
   "metadata": {},
   "outputs": [],
   "source": []
  },
  {
   "cell_type": "markdown",
   "id": "68a7de28",
   "metadata": {},
   "source": [
    "# Combining WER w/lang model"
   ]
  },
  {
   "cell_type": "code",
   "execution_count": 28,
   "id": "278f1573",
   "metadata": {},
   "outputs": [],
   "source": [
    "mod_prob_wer_DisRob = OrderedModel(measures_df['Human'],\n",
    "                        measures_df[['WER', 'DisRob']],\n",
    "                        distr='logit')\n"
   ]
  },
  {
   "cell_type": "code",
   "execution_count": 29,
   "id": "d5f34b7f",
   "metadata": {},
   "outputs": [
    {
     "name": "stdout",
     "output_type": "stream",
     "text": [
      "Optimization terminated successfully.\n",
      "         Current function value: 0.689925\n",
      "         Iterations: 24\n",
      "         Function evaluations: 25\n",
      "         Gradient evaluations: 25\n"
     ]
    },
    {
     "data": {
      "text/html": [
       "<table class=\"simpletable\">\n",
       "<caption>OrderedModel Results</caption>\n",
       "<tr>\n",
       "  <th>Dep. Variable:</th>           <td>Human</td>       <th>  Log-Likelihood:    </th> <td> -103.49</td>\n",
       "</tr>\n",
       "<tr>\n",
       "  <th>Model:</th>               <td>OrderedModel</td>    <th>  AIC:               </th> <td>   215.0</td>\n",
       "</tr>\n",
       "<tr>\n",
       "  <th>Method:</th>           <td>Maximum Likelihood</td> <th>  BIC:               </th> <td>   227.0</td>\n",
       "</tr>\n",
       "<tr>\n",
       "  <th>Date:</th>              <td>Tue, 17 Jan 2023</td>  <th>                     </th>     <td> </td>   \n",
       "</tr>\n",
       "<tr>\n",
       "  <th>Time:</th>                  <td>11:10:02</td>      <th>                     </th>     <td> </td>   \n",
       "</tr>\n",
       "<tr>\n",
       "  <th>No. Observations:</th>       <td>   150</td>       <th>                     </th>     <td> </td>   \n",
       "</tr>\n",
       "<tr>\n",
       "  <th>Df Residuals:</th>           <td>   146</td>       <th>                     </th>     <td> </td>   \n",
       "</tr>\n",
       "<tr>\n",
       "  <th>Df Model:</th>               <td>     4</td>       <th>                     </th>     <td> </td>   \n",
       "</tr>\n",
       "</table>\n",
       "<table class=\"simpletable\">\n",
       "<tr>\n",
       "     <td></td>        <th>coef</th>     <th>std err</th>      <th>z</th>      <th>P>|z|</th>  <th>[0.025</th>    <th>0.975]</th>  \n",
       "</tr>\n",
       "<tr>\n",
       "  <th>WER</th>     <td>    0.3492</td> <td>    0.820</td> <td>    0.426</td> <td> 0.670</td> <td>   -1.257</td> <td>    1.956</td>\n",
       "</tr>\n",
       "<tr>\n",
       "  <th>DisRob</th>  <td>    7.7374</td> <td>    1.217</td> <td>    6.359</td> <td> 0.000</td> <td>    5.353</td> <td>   10.122</td>\n",
       "</tr>\n",
       "<tr>\n",
       "  <th>0.0/1.0</th> <td>    1.4307</td> <td>    0.410</td> <td>    3.486</td> <td> 0.000</td> <td>    0.626</td> <td>    2.235</td>\n",
       "</tr>\n",
       "<tr>\n",
       "  <th>1.0/2.0</th> <td>    0.7934</td> <td>    0.147</td> <td>    5.404</td> <td> 0.000</td> <td>    0.506</td> <td>    1.081</td>\n",
       "</tr>\n",
       "</table>"
      ],
      "text/plain": [
       "<class 'statsmodels.iolib.summary.Summary'>\n",
       "\"\"\"\n",
       "                             OrderedModel Results                             \n",
       "==============================================================================\n",
       "Dep. Variable:                  Human   Log-Likelihood:                -103.49\n",
       "Model:                   OrderedModel   AIC:                             215.0\n",
       "Method:            Maximum Likelihood   BIC:                             227.0\n",
       "Date:                Tue, 17 Jan 2023                                         \n",
       "Time:                        11:10:02                                         \n",
       "No. Observations:                 150                                         \n",
       "Df Residuals:                     146                                         \n",
       "Df Model:                           4                                         \n",
       "==============================================================================\n",
       "                 coef    std err          z      P>|z|      [0.025      0.975]\n",
       "------------------------------------------------------------------------------\n",
       "WER            0.3492      0.820      0.426      0.670      -1.257       1.956\n",
       "DisRob         7.7374      1.217      6.359      0.000       5.353      10.122\n",
       "0.0/1.0        1.4307      0.410      3.486      0.000       0.626       2.235\n",
       "1.0/2.0        0.7934      0.147      5.404      0.000       0.506       1.081\n",
       "==============================================================================\n",
       "\"\"\""
      ]
     },
     "execution_count": 29,
     "metadata": {},
     "output_type": "execute_result"
    }
   ],
   "source": [
    "res_log_wer_DisRob = mod_prob_wer_DisRob.fit(method='bfgs')\n",
    "res_log_wer_DisRob.summary()\n"
   ]
  },
  {
   "cell_type": "code",
   "execution_count": 33,
   "id": "3df557fa",
   "metadata": {},
   "outputs": [
    {
     "name": "stderr",
     "output_type": "stream",
     "text": [
      "/opt/anaconda3/lib/python3.8/site-packages/statsmodels/miscmodels/ordinal_model.py:419: FutureWarning: Support for multi-dimensional indexing (e.g. `obj[:, None]`) is deprecated and will be removed in a future version.  Convert to a numpy array before indexing instead.\n"
     ]
    },
    {
     "data": {
      "text/plain": [
       "0.72"
      ]
     },
     "execution_count": 33,
     "metadata": {},
     "output_type": "execute_result"
    }
   ],
   "source": [
    "predicted_dis = res_log_wer_DisRob.model.predict(res_log_wer_DisRob.params, exog=measures_df[['WER', 'DisRob']])\n",
    "predicted_dis\n",
    "np.mean(measures_df['Human'] == predicted_dis.argmax(axis=1))"
   ]
  },
  {
   "cell_type": "code",
   "execution_count": 41,
   "id": "6bf4e0d8",
   "metadata": {},
   "outputs": [
    {
     "name": "stdout",
     "output_type": "stream",
     "text": [
      "got split\n",
      "Optimization terminated successfully.\n",
      "         Current function value: 0.662421\n",
      "         Iterations: 28\n",
      "         Function evaluations: 29\n",
      "         Gradient evaluations: 29\n",
      "got split\n",
      "Optimization terminated successfully.\n",
      "         Current function value: 0.708896\n",
      "         Iterations: 27\n",
      "         Function evaluations: 28\n",
      "         Gradient evaluations: 28\n"
     ]
    },
    {
     "name": "stderr",
     "output_type": "stream",
     "text": [
      "/opt/anaconda3/lib/python3.8/site-packages/statsmodels/miscmodels/ordinal_model.py:419: FutureWarning: Support for multi-dimensional indexing (e.g. `obj[:, None]`) is deprecated and will be removed in a future version.  Convert to a numpy array before indexing instead.\n",
      "/opt/anaconda3/lib/python3.8/site-packages/statsmodels/miscmodels/ordinal_model.py:419: FutureWarning: Support for multi-dimensional indexing (e.g. `obj[:, None]`) is deprecated and will be removed in a future version.  Convert to a numpy array before indexing instead.\n"
     ]
    },
    {
     "name": "stdout",
     "output_type": "stream",
     "text": [
      "got split\n",
      "Optimization terminated successfully.\n",
      "         Current function value: 0.676411\n",
      "         Iterations: 28\n",
      "         Function evaluations: 29\n",
      "         Gradient evaluations: 29\n",
      "got split\n",
      "Optimization terminated successfully.\n",
      "         Current function value: 0.712928\n",
      "         Iterations: 27\n",
      "         Function evaluations: 28\n",
      "         Gradient evaluations: 28\n",
      "got split\n"
     ]
    },
    {
     "name": "stderr",
     "output_type": "stream",
     "text": [
      "/opt/anaconda3/lib/python3.8/site-packages/statsmodels/miscmodels/ordinal_model.py:419: FutureWarning: Support for multi-dimensional indexing (e.g. `obj[:, None]`) is deprecated and will be removed in a future version.  Convert to a numpy array before indexing instead.\n",
      "/opt/anaconda3/lib/python3.8/site-packages/statsmodels/miscmodels/ordinal_model.py:419: FutureWarning: Support for multi-dimensional indexing (e.g. `obj[:, None]`) is deprecated and will be removed in a future version.  Convert to a numpy array before indexing instead.\n"
     ]
    },
    {
     "name": "stdout",
     "output_type": "stream",
     "text": [
      "Optimization terminated successfully.\n",
      "         Current function value: 0.686324\n",
      "         Iterations: 28\n",
      "         Function evaluations: 29\n",
      "         Gradient evaluations: 29\n",
      "got split\n",
      "Optimization terminated successfully.\n",
      "         Current function value: 0.710276\n",
      "         Iterations: 27\n",
      "         Function evaluations: 28\n",
      "         Gradient evaluations: 28\n",
      "got split\n"
     ]
    },
    {
     "name": "stderr",
     "output_type": "stream",
     "text": [
      "/opt/anaconda3/lib/python3.8/site-packages/statsmodels/miscmodels/ordinal_model.py:419: FutureWarning: Support for multi-dimensional indexing (e.g. `obj[:, None]`) is deprecated and will be removed in a future version.  Convert to a numpy array before indexing instead.\n",
      "/opt/anaconda3/lib/python3.8/site-packages/statsmodels/miscmodels/ordinal_model.py:419: FutureWarning: Support for multi-dimensional indexing (e.g. `obj[:, None]`) is deprecated and will be removed in a future version.  Convert to a numpy array before indexing instead.\n"
     ]
    },
    {
     "name": "stdout",
     "output_type": "stream",
     "text": [
      "Optimization terminated successfully.\n",
      "         Current function value: 0.663110\n",
      "         Iterations: 28\n",
      "         Function evaluations: 29\n",
      "         Gradient evaluations: 29\n",
      "got split\n",
      "Optimization terminated successfully.\n",
      "         Current function value: 0.698609\n",
      "         Iterations: 28\n",
      "         Function evaluations: 29\n",
      "         Gradient evaluations: 29\n",
      "got split\n",
      "Optimization terminated successfully.\n",
      "         Current function value: 0.676264\n",
      "         Iterations: 28\n",
      "         Function evaluations: 29\n",
      "         Gradient evaluations: 29\n"
     ]
    },
    {
     "name": "stderr",
     "output_type": "stream",
     "text": [
      "/opt/anaconda3/lib/python3.8/site-packages/statsmodels/miscmodels/ordinal_model.py:419: FutureWarning: Support for multi-dimensional indexing (e.g. `obj[:, None]`) is deprecated and will be removed in a future version.  Convert to a numpy array before indexing instead.\n",
      "/opt/anaconda3/lib/python3.8/site-packages/statsmodels/miscmodels/ordinal_model.py:419: FutureWarning: Support for multi-dimensional indexing (e.g. `obj[:, None]`) is deprecated and will be removed in a future version.  Convert to a numpy array before indexing instead.\n"
     ]
    },
    {
     "name": "stdout",
     "output_type": "stream",
     "text": [
      "got split\n",
      "Optimization terminated successfully.\n",
      "         Current function value: 0.686223\n",
      "         Iterations: 28\n",
      "         Function evaluations: 29\n",
      "         Gradient evaluations: 29\n"
     ]
    },
    {
     "name": "stderr",
     "output_type": "stream",
     "text": [
      "/opt/anaconda3/lib/python3.8/site-packages/statsmodels/miscmodels/ordinal_model.py:419: FutureWarning: Support for multi-dimensional indexing (e.g. `obj[:, None]`) is deprecated and will be removed in a future version.  Convert to a numpy array before indexing instead.\n",
      "/opt/anaconda3/lib/python3.8/site-packages/statsmodels/miscmodels/ordinal_model.py:419: FutureWarning: Support for multi-dimensional indexing (e.g. `obj[:, None]`) is deprecated and will be removed in a future version.  Convert to a numpy array before indexing instead.\n"
     ]
    }
   ],
   "source": [
    "combined_arr = []\n",
    "for train_index, test_index in splits.split(measures_df):\n",
    "    # get split    \n",
    "    train, test = measures_df.iloc[train_index], measures_df.iloc[test_index]\n",
    "    print('got split')\n",
    "    # train and fit     \n",
    "    mod_prob_DisRob = OrderedModel(train['Human'],\n",
    "                        train[['WER', 'DisRob', 'FLAIR_DS']],\n",
    "                        distr='logit')\n",
    "    res_log_DisRob = mod_prob_DisRob.fit(method='bfgs')\n",
    "\n",
    "    # predict test set     \n",
    "    predicted_dis = res_log_DisRob.model.predict(res_log_DisRob.params, exog=test[['WER', 'DisRob', 'FLAIR_DS']])\n",
    "    \n",
    "    combined_arr.append(np.mean(test['Human'] == predicted_dis.argmax(axis=1)))\n",
    "\n",
    " "
   ]
  },
  {
   "cell_type": "code",
   "execution_count": 42,
   "id": "f621eaf6",
   "metadata": {},
   "outputs": [
    {
     "data": {
      "text/plain": [
       "0.7266666666666667"
      ]
     },
     "execution_count": 42,
     "metadata": {},
     "output_type": "execute_result"
    }
   ],
   "source": [
    "np.mean(combined_arr)"
   ]
  },
  {
   "cell_type": "code",
   "execution_count": 43,
   "id": "cf40997c",
   "metadata": {},
   "outputs": [
    {
     "data": {
      "text/plain": [
       "[0.6666666666666666,\n",
       " 0.7333333333333333,\n",
       " 0.6666666666666666,\n",
       " 0.8666666666666667,\n",
       " 0.7333333333333333,\n",
       " 0.8,\n",
       " 0.6,\n",
       " 0.8,\n",
       " 0.6666666666666666,\n",
       " 0.7333333333333333]"
      ]
     },
     "execution_count": 43,
     "metadata": {},
     "output_type": "execute_result"
    }
   ],
   "source": [
    "combined_arr"
   ]
  },
  {
   "cell_type": "code",
   "execution_count": null,
   "id": "7d9e5879",
   "metadata": {},
   "outputs": [],
   "source": []
  }
 ],
 "metadata": {
  "kernelspec": {
   "display_name": "Python 3 (ipykernel)",
   "language": "python",
   "name": "python3"
  },
  "language_info": {
   "codemirror_mode": {
    "name": "ipython",
    "version": 3
   },
   "file_extension": ".py",
   "mimetype": "text/x-python",
   "name": "python",
   "nbconvert_exporter": "python",
   "pygments_lexer": "ipython3",
   "version": "3.9.7"
  },
  "vscode": {
   "interpreter": {
    "hash": "40d3a090f54c6569ab1632332b64b2c03c39dcf918b08424e98f38b5ae0af88f"
   }
  }
 },
 "nbformat": 4,
 "nbformat_minor": 5
}
